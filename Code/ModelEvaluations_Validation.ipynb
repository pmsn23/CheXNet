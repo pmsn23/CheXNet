{
 "cells": [
  {
   "cell_type": "code",
   "execution_count": 27,
   "metadata": {},
   "outputs": [],
   "source": [
    "import pandas as pd\n",
    "import numpy as np\n",
    "import matplotlib.pyplot as plt\n",
    "\n",
    "from keras import models\n",
    "from keras import layers\n",
    "from keras import optimizers\n",
    "from keras_preprocessing.image import ImageDataGenerator\n",
    "from keras.models import load_model\n",
    "\n",
    "from sklearn.metrics import roc_curve, auc, roc_auc_score, precision_recall_curve, average_precision_score"
   ]
  },
  {
   "cell_type": "code",
   "execution_count": 2,
   "metadata": {},
   "outputs": [
    {
     "name": "stdout",
     "output_type": "stream",
     "text": [
      "0    167\n",
      "1     67\n",
      "Name: label, dtype: int64\n"
     ]
    }
   ],
   "source": [
    "# -----------------------------LOAD IN OUR DATA---------------------------------- #\n",
    "VALID = 'CheXpert-v1.0-small/valid.csv'\n",
    "\n",
    "# generate validation set\n",
    "valid = pd.read_csv(VALID, dtype=str)\n",
    "\n",
    "##clean up the age to int then create buckets\n",
    "valid['Age'] = valid['Age'].astype(str).astype(int)\n",
    "age_buckets = [0, 2, 5, 13, 18, 33, 48, 64, 78, 98]\n",
    "valid['age_bucket'] = pd.cut(valid['Age'], age_buckets)\n",
    "\n",
    "##parse the path into the respective categories\n",
    "new = valid[\"Path\"].str.split(\"/\", n = 5, expand = True)\n",
    "\n",
    "valid['Folder'] = new[0]\n",
    "valid['Data'] = new[1]\n",
    "valid['Patient'] = new[2]\n",
    "valid['Study'] = new[3]\n",
    "valid['viewNumber']= new[4].str.split(\"_\", n = 2, expand = True)[0]\n",
    "valid['ImageType']= new[4].str.split(\"_\", n = 2, expand = True)[1]\n",
    "\n",
    "#mapping to different labels\n",
    "label = {'0.0': '0', '1.0' : '1', '-1.0' : '1'}\n",
    "\n",
    "#same for validation set even though there should be no issue here with missing data\n",
    "valid['label'] = valid['Pleural Effusion'].map(label)\n",
    "num_valid = len(valid)\n",
    "\n",
    "print(valid['label'].value_counts())\n"
   ]
  },
  {
   "cell_type": "code",
   "execution_count": 3,
   "metadata": {},
   "outputs": [],
   "source": [
    "#---------------------------------CREATE TEST DATA GENERATOR---------------------------------#\n",
    "def test_flow(valid, target_size, batch_size = 1, color_mode=\"rgb\",  x = 'Path', y= 'label'):\n",
    "\n",
    "    #declare the datagen options\n",
    "    valid_datagen = ImageDataGenerator(rescale=1./255)\n",
    "\n",
    "    valid_generator = valid_datagen.flow_from_dataframe(dataframe=valid,\n",
    "                                                        directory=None,\n",
    "                                                        x_col=x,\n",
    "                                                        y_col=y,\n",
    "                                                        class_mode=\"binary\",\n",
    "                                                        color_mode=color_mode,\n",
    "                                                        seed = 42,\n",
    "                                                        shuffle = False,\n",
    "                                                        target_size=target_size,\n",
    "                                                        batch_size=batch_size)\n",
    "\n",
    "    return valid_generator"
   ]
  },
  {
   "cell_type": "markdown",
   "metadata": {},
   "source": [
    "## DenseNet Evaluation"
   ]
  },
  {
   "cell_type": "code",
   "execution_count": 4,
   "metadata": {},
   "outputs": [
    {
     "name": "stdout",
     "output_type": "stream",
     "text": [
      "Found 234 validated image filenames belonging to 2 classes.\n"
     ]
    }
   ],
   "source": [
    "valid_generator = test_flow(valid, (224,224), color_mode=\"rgb\")"
   ]
  },
  {
   "cell_type": "code",
   "execution_count": 5,
   "metadata": {},
   "outputs": [
    {
     "name": "stdout",
     "output_type": "stream",
     "text": [
      "_________________________________________________________________\n",
      "Layer (type)                 Output Shape              Param #   \n",
      "=================================================================\n",
      "densenet121 (Model)          (None, 1000)              7037504   \n",
      "_________________________________________________________________\n",
      "dense_1 (Dense)              (None, 1)                 1001      \n",
      "=================================================================\n",
      "Total params: 7,038,505\n",
      "Trainable params: 6,954,857\n",
      "Non-trainable params: 83,648\n",
      "_________________________________________________________________\n",
      "None\n"
     ]
    }
   ],
   "source": [
    "from keras.applications.densenet import DenseNet121 as BASE\n",
    "WEIGHTS = 'DenseNet121_16_6_weights_lr_reduce_from32.hdf5'\n",
    "\n",
    "conv_base = BASE(include_top=True,\n",
    "                input_shape=valid_generator.image_shape,\n",
    "                pooling=max)\n",
    "\n",
    "conv_base.layers.pop()\n",
    "# print(conv_base.summary())\n",
    "\n",
    "# conv_base.trainable = True\n",
    "# for layer in conv_base.layers:\n",
    "#     layer.trainable = True\n",
    "\n",
    "model = models.Sequential()\n",
    "model.add(conv_base)\n",
    "model.add(layers.Dense(1, activation='sigmoid'))\n",
    "\n",
    "if WEIGHTS:\n",
    "    model.load_weights(WEIGHTS)\n",
    "\n",
    "model.compile(loss='binary_crossentropy', optimizer= optimizers.Adam(), metrics=['accuracy'])\n",
    "print(model.summary())"
   ]
  },
  {
   "cell_type": "code",
   "execution_count": 6,
   "metadata": {},
   "outputs": [
    {
     "name": "stdout",
     "output_type": "stream",
     "text": [
      "--------------------------\n",
      "\n",
      "Accuracy (Evaluation Generator)=  0.8803418803418803\n",
      "\n"
     ]
    }
   ],
   "source": [
    "scoreSeg = model.evaluate_generator(valid_generator, steps=len(valid), workers=0)\n",
    "print('--------------------------')\n",
    "print('')\n",
    "print(\"Accuracy (Evaluation Generator)= \",scoreSeg[1])\n",
    "print('')"
   ]
  },
  {
   "cell_type": "code",
   "execution_count": 7,
   "metadata": {},
   "outputs": [
    {
     "name": "stdout",
     "output_type": "stream",
     "text": [
      "234/234 [==============================] - 66s 280ms/step\n"
     ]
    }
   ],
   "source": [
    "valid_generator.reset()\n",
    "STEP_SIZE_VALID=valid_generator.n//valid_generator.batch_size\n",
    "\n",
    "y_pred = model.predict_generator(valid_generator, steps=STEP_SIZE_VALID, verbose=1, workers=0)"
   ]
  },
  {
   "cell_type": "code",
   "execution_count": 8,
   "metadata": {},
   "outputs": [
    {
     "data": {
      "text/html": [
       "<div>\n",
       "<style scoped>\n",
       "    .dataframe tbody tr th:only-of-type {\n",
       "        vertical-align: middle;\n",
       "    }\n",
       "\n",
       "    .dataframe tbody tr th {\n",
       "        vertical-align: top;\n",
       "    }\n",
       "\n",
       "    .dataframe thead th {\n",
       "        text-align: right;\n",
       "    }\n",
       "</style>\n",
       "<table border=\"1\" class=\"dataframe\">\n",
       "  <thead>\n",
       "    <tr style=\"text-align: right;\">\n",
       "      <th>y_pred_densenet</th>\n",
       "      <th>0.0</th>\n",
       "      <th>1.0</th>\n",
       "    </tr>\n",
       "    <tr>\n",
       "      <th>label</th>\n",
       "      <th></th>\n",
       "      <th></th>\n",
       "    </tr>\n",
       "  </thead>\n",
       "  <tbody>\n",
       "    <tr>\n",
       "      <th>0</th>\n",
       "      <td>161</td>\n",
       "      <td>6</td>\n",
       "    </tr>\n",
       "    <tr>\n",
       "      <th>1</th>\n",
       "      <td>22</td>\n",
       "      <td>45</td>\n",
       "    </tr>\n",
       "  </tbody>\n",
       "</table>\n",
       "</div>"
      ],
      "text/plain": [
       "y_pred_densenet  0.0  1.0\n",
       "label                    \n",
       "0                161    6\n",
       "1                 22   45"
      ]
     },
     "execution_count": 8,
     "metadata": {},
     "output_type": "execute_result"
    }
   ],
   "source": [
    "valid['densenet'] = y_pred\n",
    "\n",
    "valid['y_pred_densenet'] = round(valid['densenet'])\n",
    "\n",
    "pd.crosstab(valid['label'], valid['y_pred_densenet'])"
   ]
  },
  {
   "cell_type": "markdown",
   "metadata": {},
   "source": [
    "One issue we see immediately is the ammount of false negatives in our group. I would think that is our most concerning group as it shows that we miss almost 32% of our positive cases! This makes some sense as we have an imbalanced training data set."
   ]
  },
  {
   "cell_type": "code",
   "execution_count": 9,
   "metadata": {},
   "outputs": [
    {
     "name": "stdout",
     "output_type": "stream",
     "text": [
      "--------------------------\n",
      "\n",
      "Model AUC: 0.9198\n",
      "\n",
      "--------------------------\n"
     ]
    }
   ],
   "source": [
    "fpr_keras, tpr_keras, thresholds_keras = roc_curve(valid_generator.classes, y_pred)\n",
    "auc_keras = auc(fpr_keras, tpr_keras)\n",
    "print('--------------------------')\n",
    "print('')\n",
    "print('Model AUC: %s' % str(round(auc_keras, 4)))\n",
    "print('')\n",
    "print('--------------------------')"
   ]
  },
  {
   "cell_type": "code",
   "execution_count": 10,
   "metadata": {
    "scrolled": true
   },
   "outputs": [
    {
     "data": {
      "image/png": "[encoded data removed]",
      "text/plain": [
       "<Figure size 432x288 with 1 Axes>"
      ]
     },
     "metadata": {
      "needs_background": "light"
     },
     "output_type": "display_data"
    }
   ],
   "source": [
    "plt.figure(1)\n",
    "plt.plot([0, 1], [0, 1], 'k--')\n",
    "plt.plot(fpr_keras, tpr_keras, label='area = {:.3f}'.format(auc_keras))\n",
    "plt.xlabel('False positive rate')\n",
    "plt.ylabel('True positive rate')\n",
    "plt.title('ROC curve')\n",
    "plt.legend(loc='best')\n",
    "plt.show()"
   ]
  },
  {
   "cell_type": "markdown",
   "metadata": {},
   "source": [
    "Our model AUC is not significantly worse that the baseline, although it does not perform better, and considering our errors are primarily related to false negatives it is difficult to gauge the reliability of this model."
   ]
  },
  {
   "cell_type": "markdown",
   "metadata": {},
   "source": [
    "Lets also add some summaries of the floating point operations performed by our model. Begining with our model:"
   ]
  },
  {
   "cell_type": "code",
   "execution_count": 19,
   "metadata": {},
   "outputs": [
    {
     "name": "stdout",
     "output_type": "stream",
     "text": [
      "Total FLOPS--- 5687221763\n"
     ]
    }
   ],
   "source": [
    "import tensorflow as tf\n",
    "import keras.backend as K\n",
    "from keras.applications.densenet import DenseNet121\n",
    "\n",
    "run_meta = tf.RunMetadata()\n",
    "with tf.Session(graph=tf.Graph()) as sess:\n",
    "    K.set_session(sess)\n",
    "    net = DenseNet121( input_tensor=tf.placeholder('float32', shape=(1,224,224,3)))\n",
    "    \n",
    "    opts = tf.profiler.ProfileOptionBuilder.float_operation()    \n",
    "    DenseNetFlops = tf.profiler.profile(sess.graph, run_meta=run_meta, cmd='op', options=opts)\n",
    "    \n",
    "    print(\"Total FLOPS--- {}\".format(DenseNetFlops.total_float_ops))"
   ]
  },
  {
   "cell_type": "markdown",
   "metadata": {},
   "source": [
    "Compared to a Model with the authors input shpares"
   ]
  },
  {
   "cell_type": "code",
   "execution_count": 20,
   "metadata": {},
   "outputs": [
    {
     "name": "stdout",
     "output_type": "stream",
     "text": [
      "Total FLOPS--- 34762311177\n"
     ]
    }
   ],
   "source": [
    "import tensorflow as tf\n",
    "import keras.backend as K\n",
    "from keras.applications.densenet import DenseNet121\n",
    "\n",
    "run_meta = tf.RunMetadata()\n",
    "with tf.Session(graph=tf.Graph()) as sess:\n",
    "    K.set_session(sess)\n",
    "    net = DenseNet121( input_tensor=tf.placeholder('float32', shape=(1,320,320,3)))\n",
    "    \n",
    "    opts = tf.profiler.ProfileOptionBuilder.float_operation()    \n",
    "    BaseLineFlops = tf.profiler.profile(sess.graph, run_meta=run_meta, cmd='op', options=opts)\n",
    "    \n",
    "    print(\"Total FLOPS--- {}\".format(BaseLineFlops.total_float_ops*3))"
   ]
  },
  {
   "cell_type": "markdown",
   "metadata": {},
   "source": [
    "## MobileNetV2 Evaluations"
   ]
  },
  {
   "cell_type": "code",
   "execution_count": 22,
   "metadata": {},
   "outputs": [
    {
     "name": "stdout",
     "output_type": "stream",
     "text": [
      "Found 234 validated image filenames belonging to 2 classes.\n"
     ]
    }
   ],
   "source": [
    "valid_generator = test_flow(valid, (320,320), color_mode=\"rgb\")"
   ]
  },
  {
   "cell_type": "code",
   "execution_count": 28,
   "metadata": {},
   "outputs": [
    {
     "ename": "RuntimeError",
     "evalue": "Attempted to use a closed Session.",
     "output_type": "error",
     "traceback": [
      "\u001b[0;31m---------------------------------------------------------------------------\u001b[0m",
      "\u001b[0;31mRuntimeError\u001b[0m                              Traceback (most recent call last)",
      "\u001b[0;32m<ipython-input-28-b3d085049208>\u001b[0m in \u001b[0;36m<module>\u001b[0;34m\u001b[0m\n\u001b[1;32m      1\u001b[0m \u001b[0;31m# load model\u001b[0m\u001b[0;34m\u001b[0m\u001b[0;34m\u001b[0m\u001b[0m\n\u001b[0;32m----> 2\u001b[0;31m \u001b[0mmodel\u001b[0m \u001b[0;34m=\u001b[0m \u001b[0mload_model\u001b[0m\u001b[0;34m(\u001b[0m\u001b[0;34m'/home/newall/MSDS/MSDSCapstone/MobileNetV2_16_6_model_320x320_v2.h5'\u001b[0m\u001b[0;34m)\u001b[0m\u001b[0;34m\u001b[0m\u001b[0m\n\u001b[0m\u001b[1;32m      3\u001b[0m \u001b[0mmodel\u001b[0m\u001b[0;34m.\u001b[0m\u001b[0msummary\u001b[0m\u001b[0;34m(\u001b[0m\u001b[0;34m)\u001b[0m\u001b[0;34m\u001b[0m\u001b[0m\n",
      "\u001b[0;32m~/anaconda3/envs/tensorflow/lib/python3.6/site-packages/keras/engine/saving.py\u001b[0m in \u001b[0;36mload_model\u001b[0;34m(filepath, custom_objects, compile)\u001b[0m\n\u001b[1;32m    417\u001b[0m     \u001b[0mf\u001b[0m \u001b[0;34m=\u001b[0m \u001b[0mh5dict\u001b[0m\u001b[0;34m(\u001b[0m\u001b[0mfilepath\u001b[0m\u001b[0;34m,\u001b[0m \u001b[0;34m'r'\u001b[0m\u001b[0;34m)\u001b[0m\u001b[0;34m\u001b[0m\u001b[0m\n\u001b[1;32m    418\u001b[0m     \u001b[0;32mtry\u001b[0m\u001b[0;34m:\u001b[0m\u001b[0;34m\u001b[0m\u001b[0m\n\u001b[0;32m--> 419\u001b[0;31m         \u001b[0mmodel\u001b[0m \u001b[0;34m=\u001b[0m \u001b[0m_deserialize_model\u001b[0m\u001b[0;34m(\u001b[0m\u001b[0mf\u001b[0m\u001b[0;34m,\u001b[0m \u001b[0mcustom_objects\u001b[0m\u001b[0;34m,\u001b[0m \u001b[0mcompile\u001b[0m\u001b[0;34m)\u001b[0m\u001b[0;34m\u001b[0m\u001b[0m\n\u001b[0m\u001b[1;32m    420\u001b[0m     \u001b[0;32mfinally\u001b[0m\u001b[0;34m:\u001b[0m\u001b[0;34m\u001b[0m\u001b[0m\n\u001b[1;32m    421\u001b[0m         \u001b[0;32mif\u001b[0m \u001b[0mopened_new_file\u001b[0m\u001b[0;34m:\u001b[0m\u001b[0;34m\u001b[0m\u001b[0m\n",
      "\u001b[0;32m~/anaconda3/envs/tensorflow/lib/python3.6/site-packages/keras/engine/saving.py\u001b[0m in \u001b[0;36m_deserialize_model\u001b[0;34m(f, custom_objects, compile)\u001b[0m\n\u001b[1;32m    285\u001b[0m                              ' elements.')\n\u001b[1;32m    286\u001b[0m         \u001b[0mweight_value_tuples\u001b[0m \u001b[0;34m+=\u001b[0m \u001b[0mzip\u001b[0m\u001b[0;34m(\u001b[0m\u001b[0msymbolic_weights\u001b[0m\u001b[0;34m,\u001b[0m \u001b[0mweight_values\u001b[0m\u001b[0;34m)\u001b[0m\u001b[0;34m\u001b[0m\u001b[0m\n\u001b[0;32m--> 287\u001b[0;31m     \u001b[0mK\u001b[0m\u001b[0;34m.\u001b[0m\u001b[0mbatch_set_value\u001b[0m\u001b[0;34m(\u001b[0m\u001b[0mweight_value_tuples\u001b[0m\u001b[0;34m)\u001b[0m\u001b[0;34m\u001b[0m\u001b[0m\n\u001b[0m\u001b[1;32m    288\u001b[0m \u001b[0;34m\u001b[0m\u001b[0m\n\u001b[1;32m    289\u001b[0m     \u001b[0;32mif\u001b[0m \u001b[0mcompile\u001b[0m\u001b[0;34m:\u001b[0m\u001b[0;34m\u001b[0m\u001b[0m\n",
      "\u001b[0;32m~/anaconda3/envs/tensorflow/lib/python3.6/site-packages/keras/backend/tensorflow_backend.py\u001b[0m in \u001b[0;36mbatch_set_value\u001b[0;34m(tuples)\u001b[0m\n\u001b[1;32m   2468\u001b[0m             \u001b[0massign_ops\u001b[0m\u001b[0;34m.\u001b[0m\u001b[0mappend\u001b[0m\u001b[0;34m(\u001b[0m\u001b[0massign_op\u001b[0m\u001b[0;34m)\u001b[0m\u001b[0;34m\u001b[0m\u001b[0m\n\u001b[1;32m   2469\u001b[0m             \u001b[0mfeed_dict\u001b[0m\u001b[0;34m[\u001b[0m\u001b[0massign_placeholder\u001b[0m\u001b[0;34m]\u001b[0m \u001b[0;34m=\u001b[0m \u001b[0mvalue\u001b[0m\u001b[0;34m\u001b[0m\u001b[0m\n\u001b[0;32m-> 2470\u001b[0;31m         \u001b[0mget_session\u001b[0m\u001b[0;34m(\u001b[0m\u001b[0;34m)\u001b[0m\u001b[0;34m.\u001b[0m\u001b[0mrun\u001b[0m\u001b[0;34m(\u001b[0m\u001b[0massign_ops\u001b[0m\u001b[0;34m,\u001b[0m \u001b[0mfeed_dict\u001b[0m\u001b[0;34m=\u001b[0m\u001b[0mfeed_dict\u001b[0m\u001b[0;34m)\u001b[0m\u001b[0;34m\u001b[0m\u001b[0m\n\u001b[0m\u001b[1;32m   2471\u001b[0m \u001b[0;34m\u001b[0m\u001b[0m\n\u001b[1;32m   2472\u001b[0m \u001b[0;34m\u001b[0m\u001b[0m\n",
      "\u001b[0;32m~/.local/lib/python3.6/site-packages/tensorflow/python/client/session.py\u001b[0m in \u001b[0;36mrun\u001b[0;34m(self, fetches, feed_dict, options, run_metadata)\u001b[0m\n\u001b[1;32m    927\u001b[0m     \u001b[0;32mtry\u001b[0m\u001b[0;34m:\u001b[0m\u001b[0;34m\u001b[0m\u001b[0m\n\u001b[1;32m    928\u001b[0m       result = self._run(None, fetches, feed_dict, options_ptr,\n\u001b[0;32m--> 929\u001b[0;31m                          run_metadata_ptr)\n\u001b[0m\u001b[1;32m    930\u001b[0m       \u001b[0;32mif\u001b[0m \u001b[0mrun_metadata\u001b[0m\u001b[0;34m:\u001b[0m\u001b[0;34m\u001b[0m\u001b[0m\n\u001b[1;32m    931\u001b[0m         \u001b[0mproto_data\u001b[0m \u001b[0;34m=\u001b[0m \u001b[0mtf_session\u001b[0m\u001b[0;34m.\u001b[0m\u001b[0mTF_GetBuffer\u001b[0m\u001b[0;34m(\u001b[0m\u001b[0mrun_metadata_ptr\u001b[0m\u001b[0;34m)\u001b[0m\u001b[0;34m\u001b[0m\u001b[0m\n",
      "\u001b[0;32m~/.local/lib/python3.6/site-packages/tensorflow/python/client/session.py\u001b[0m in \u001b[0;36m_run\u001b[0;34m(self, handle, fetches, feed_dict, options, run_metadata)\u001b[0m\n\u001b[1;32m   1073\u001b[0m     \u001b[0;31m# Check session.\u001b[0m\u001b[0;34m\u001b[0m\u001b[0;34m\u001b[0m\u001b[0m\n\u001b[1;32m   1074\u001b[0m     \u001b[0;32mif\u001b[0m \u001b[0mself\u001b[0m\u001b[0;34m.\u001b[0m\u001b[0m_closed\u001b[0m\u001b[0;34m:\u001b[0m\u001b[0;34m\u001b[0m\u001b[0m\n\u001b[0;32m-> 1075\u001b[0;31m       \u001b[0;32mraise\u001b[0m \u001b[0mRuntimeError\u001b[0m\u001b[0;34m(\u001b[0m\u001b[0;34m'Attempted to use a closed Session.'\u001b[0m\u001b[0;34m)\u001b[0m\u001b[0;34m\u001b[0m\u001b[0m\n\u001b[0m\u001b[1;32m   1076\u001b[0m     \u001b[0;32mif\u001b[0m \u001b[0mself\u001b[0m\u001b[0;34m.\u001b[0m\u001b[0mgraph\u001b[0m\u001b[0;34m.\u001b[0m\u001b[0mversion\u001b[0m \u001b[0;34m==\u001b[0m \u001b[0;36m0\u001b[0m\u001b[0;34m:\u001b[0m\u001b[0;34m\u001b[0m\u001b[0m\n\u001b[1;32m   1077\u001b[0m       raise RuntimeError('The Session graph is empty.  Add operations to the '\n",
      "\u001b[0;31mRuntimeError\u001b[0m: Attempted to use a closed Session."
     ]
    }
   ],
   "source": [
    "# load model\n",
    "model = load_model('/home/newall/MSDS/MSDSCapstone/MobileNetV2_16_6_model_320x320_v2.h5')\n",
    "model.summary()"
   ]
  },
  {
   "cell_type": "code",
   "execution_count": null,
   "metadata": {},
   "outputs": [],
   "source": [
    "scoreSeg = model.evaluate_generator(valid_generator, steps=len(valid), workers=0)\n",
    "print('--------------------------')\n",
    "print('')\n",
    "print(\"Accuracy (Evaluation Generator)= \",scoreSeg[1])\n",
    "print('')"
   ]
  },
  {
   "cell_type": "code",
   "execution_count": null,
   "metadata": {},
   "outputs": [],
   "source": [
    "valid_generator.reset()\n",
    "STEP_SIZE_VALID=valid_generator.n//valid_generator.batch_size\n",
    "\n",
    "y_pred = model.predict_generator(valid_generator, steps=STEP_SIZE_VALID, verbose=1, workers=0)"
   ]
  },
  {
   "cell_type": "code",
   "execution_count": null,
   "metadata": {},
   "outputs": [],
   "source": [
    "valid['mobilenet'] = y_pred\n",
    "\n",
    "valid['y_pred_mobilenet'] = round(valid['mobilenet'])\n",
    "\n",
    "pd.crosstab(valid['label'], valid['y_pred_mobilenet'])"
   ]
  },
  {
   "cell_type": "code",
   "execution_count": null,
   "metadata": {},
   "outputs": [],
   "source": [
    "fpr_keras, tpr_keras, thresholds_keras = roc_curve(valid_generator.classes, y_pred)\n",
    "auc_keras = auc(fpr_keras, tpr_keras)\n",
    "print('--------------------------')\n",
    "print('')\n",
    "print('Model AUC: %s' % str(round(auc_keras, 4)))\n",
    "print('')\n",
    "print('--------------------------')"
   ]
  },
  {
   "cell_type": "code",
   "execution_count": null,
   "metadata": {},
   "outputs": [],
   "source": [
    "plt.figure(1)\n",
    "plt.plot([0, 1], [0, 1], 'k--')\n",
    "plt.plot(fpr_keras, tpr_keras, label='area = {:.3f}'.format(auc_keras))\n",
    "plt.xlabel('False positive rate')\n",
    "plt.ylabel('True positive rate')\n",
    "plt.title('ROC curve')\n",
    "plt.legend(loc='best')\n",
    "plt.show()"
   ]
  },
  {
   "cell_type": "code",
   "execution_count": 25,
   "metadata": {},
   "outputs": [
    {
     "name": "stdout",
     "output_type": "stream",
     "text": [
      "Total FLOPS--- 1232723021\n"
     ]
    }
   ],
   "source": [
    "import tensorflow as tf\n",
    "import keras.backend as K\n",
    "from keras.applications.mobilenet_v2 import MobileNetV2\n",
    "\n",
    "run_meta = tf.RunMetadata()\n",
    "with tf.Session(graph=tf.Graph()) as sess:\n",
    "    K.set_session(sess)\n",
    "    net = MobileNetV2( input_tensor=tf.placeholder('float32', shape=(1,320,320,3)))\n",
    "    \n",
    "    opts = tf.profiler.ProfileOptionBuilder.float_operation()    \n",
    "    MobileNetFlops = tf.profiler.profile(sess.graph, run_meta=run_meta, cmd='op', options=opts)\n",
    "    \n",
    "    print(\"Total FLOPS--- {}\".format(MobileNetFlops.total_float_ops))"
   ]
  },
  {
   "cell_type": "markdown",
   "metadata": {},
   "source": [
    "## Model Size & Speed Comparisons"
   ]
  },
  {
   "cell_type": "code",
   "execution_count": null,
   "metadata": {},
   "outputs": [],
   "source": [
    "models = ['Baseline', 'DenseNet121', 'MobileNetV2']\n",
    "parameters = "
   ]
  },
  {
   "cell_type": "markdown",
   "metadata": {},
   "source": [
    "## Patient Level Evaluations"
   ]
  },
  {
   "cell_type": "code",
   "execution_count": 72,
   "metadata": {},
   "outputs": [],
   "source": [
    "valid['patient_id'] = [item[2] for item in valid['Path'].str.split(\"/\")]\n",
    "valid['study_id'] = [item[3] for item in valid['Path'].str.split(\"/\")]"
   ]
  },
  {
   "cell_type": "code",
   "execution_count": 73,
   "metadata": {},
   "outputs": [],
   "source": [
    "groupLabel = ['patient_id','study_id','Sex','Age','label']\n",
    "test = valid[['patient_id','study_id','Sex','Age','label','mobilenet','densenet']].groupby(groupLabel).max().reset_index()"
   ]
  },
  {
   "cell_type": "code",
   "execution_count": 74,
   "metadata": {},
   "outputs": [
    {
     "data": {
      "text/html": [
       "<div>\n",
       "<style scoped>\n",
       "    .dataframe tbody tr th:only-of-type {\n",
       "        vertical-align: middle;\n",
       "    }\n",
       "\n",
       "    .dataframe tbody tr th {\n",
       "        vertical-align: top;\n",
       "    }\n",
       "\n",
       "    .dataframe thead th {\n",
       "        text-align: right;\n",
       "    }\n",
       "</style>\n",
       "<table border=\"1\" class=\"dataframe\">\n",
       "  <thead>\n",
       "    <tr style=\"text-align: right;\">\n",
       "      <th>mobilenet_pred</th>\n",
       "      <th>0.0</th>\n",
       "      <th>1.0</th>\n",
       "    </tr>\n",
       "    <tr>\n",
       "      <th>label</th>\n",
       "      <th></th>\n",
       "      <th></th>\n",
       "    </tr>\n",
       "  </thead>\n",
       "  <tbody>\n",
       "    <tr>\n",
       "      <th>0</th>\n",
       "      <td>120</td>\n",
       "      <td>16</td>\n",
       "    </tr>\n",
       "    <tr>\n",
       "      <th>1</th>\n",
       "      <td>15</td>\n",
       "      <td>49</td>\n",
       "    </tr>\n",
       "  </tbody>\n",
       "</table>\n",
       "</div>"
      ],
      "text/plain": [
       "mobilenet_pred  0.0  1.0\n",
       "label                   \n",
       "0               120   16\n",
       "1                15   49"
      ]
     },
     "execution_count": 74,
     "metadata": {},
     "output_type": "execute_result"
    }
   ],
   "source": [
    "test['mobilenet_pred'] = round(test['mobilenet'])\n",
    "test['densenet_pred'] = round(test['densenet'])\n",
    "\n",
    "pd.crosstab(test['label'], test['mobilenet_pred'])"
   ]
  },
  {
   "cell_type": "code",
   "execution_count": 53,
   "metadata": {},
   "outputs": [
    {
     "data": {
      "text/html": [
       "<div>\n",
       "<style scoped>\n",
       "    .dataframe tbody tr th:only-of-type {\n",
       "        vertical-align: middle;\n",
       "    }\n",
       "\n",
       "    .dataframe tbody tr th {\n",
       "        vertical-align: top;\n",
       "    }\n",
       "\n",
       "    .dataframe thead th {\n",
       "        text-align: right;\n",
       "    }\n",
       "</style>\n",
       "<table border=\"1\" class=\"dataframe\">\n",
       "  <thead>\n",
       "    <tr style=\"text-align: right;\">\n",
       "      <th>densenet_pred</th>\n",
       "      <th>0.0</th>\n",
       "      <th>1.0</th>\n",
       "    </tr>\n",
       "    <tr>\n",
       "      <th>label</th>\n",
       "      <th></th>\n",
       "      <th></th>\n",
       "    </tr>\n",
       "  </thead>\n",
       "  <tbody>\n",
       "    <tr>\n",
       "      <th>0</th>\n",
       "      <td>130</td>\n",
       "      <td>6</td>\n",
       "    </tr>\n",
       "    <tr>\n",
       "      <th>1</th>\n",
       "      <td>20</td>\n",
       "      <td>44</td>\n",
       "    </tr>\n",
       "  </tbody>\n",
       "</table>\n",
       "</div>"
      ],
      "text/plain": [
       "densenet_pred  0.0  1.0\n",
       "label                  \n",
       "0              130    6\n",
       "1               20   44"
      ]
     },
     "execution_count": 53,
     "metadata": {},
     "output_type": "execute_result"
    }
   ],
   "source": [
    "pd.crosstab(test['label'], test['densenet_pred'])"
   ]
  },
  {
   "cell_type": "code",
   "execution_count": 75,
   "metadata": {
    "scrolled": true
   },
   "outputs": [],
   "source": [
    "labels = list(map(int, list(test['label'])))"
   ]
  },
  {
   "cell_type": "code",
   "execution_count": 55,
   "metadata": {},
   "outputs": [
    {
     "name": "stdout",
     "output_type": "stream",
     "text": [
      "--------------------------\n",
      "\n",
      "MobileNet AUC: 0.8953\n",
      "\n",
      "--------------------------\n"
     ]
    }
   ],
   "source": [
    "fpr_mobilenet, tpr_mobilenet, thresholds_mobilenet = roc_curve(labels, test['mobilenet'])\n",
    "auc_mobilenet = auc(fpr_mobilenet, tpr_mobilenet)\n",
    "print('--------------------------')\n",
    "print('')\n",
    "print('MobileNet AUC: %s' % str(round(auc_mobilenet, 4)))\n",
    "print('')\n",
    "print('--------------------------')"
   ]
  },
  {
   "cell_type": "code",
   "execution_count": 56,
   "metadata": {},
   "outputs": [
    {
     "name": "stdout",
     "output_type": "stream",
     "text": [
      "--------------------------\n",
      "\n",
      "DenseNet121 AUC: 0.9148\n",
      "\n",
      "--------------------------\n"
     ]
    }
   ],
   "source": [
    "fpr_densenet, tpr_densenet, thresholds_densenet = roc_curve(labels, test['densenet'])\n",
    "auc_densenet = auc(fpr_densenet, tpr_densenet)\n",
    "print('--------------------------')\n",
    "print('')\n",
    "print('DenseNet121 AUC: %s' % str(round(auc_densenet, 4)))\n",
    "print('')\n",
    "print('--------------------------')"
   ]
  },
  {
   "cell_type": "code",
   "execution_count": 57,
   "metadata": {},
   "outputs": [
    {
     "data": {
      "image/png": "[encoded data removed]",
      "text/plain": [
       "<Figure size 432x288 with 1 Axes>"
      ]
     },
     "metadata": {
      "needs_background": "light"
     },
     "output_type": "display_data"
    }
   ],
   "source": [
    "plt.figure(1)\n",
    "plt.plot([0, 1], [0, 1], 'k--')\n",
    "plt.plot(fpr_densenet, tpr_densenet, label='DenseNet121 area = {:.3f}'.format(auc_densenet))\n",
    "plt.plot(fpr_mobilenet, tpr_mobilenet, label='MobileNetV2 area = {:.3f}'.format(auc_mobilenet))\n",
    "plt.xlabel('False positive rate')\n",
    "plt.ylabel('True positive rate')\n",
    "plt.title('ROC curve')\n",
    "plt.legend(loc='best')\n",
    "plt.show()"
   ]
  },
  {
   "cell_type": "code",
   "execution_count": 58,
   "metadata": {},
   "outputs": [
    {
     "name": "stdout",
     "output_type": "stream",
     "text": [
      "DenseNet Average precision-recall score: 0.85\n"
     ]
    }
   ],
   "source": [
    "ap_densenet = average_precision_score(labels, test['densenet'])\n",
    "\n",
    "precision_densenet, recall_densenet, _ = precision_recall_curve(labels, test['densenet'])\n",
    "print('DenseNet Average precision-recall score: {0:0.2f}'.format(\n",
    "      ap_densenet))"
   ]
  },
  {
   "cell_type": "code",
   "execution_count": 59,
   "metadata": {},
   "outputs": [
    {
     "name": "stdout",
     "output_type": "stream",
     "text": [
      "DenseNet Average precision-recall score: 0.78\n"
     ]
    }
   ],
   "source": [
    "ap_mobilenet = average_precision_score(labels, test['mobilenet'])\n",
    "\n",
    "precision_mobilenet, recall_mobilenet, _ = precision_recall_curve(labels, test['mobilenet'])\n",
    "print('DenseNet Average precision-recall score: {0:0.2f}'.format(\n",
    "      ap_mobilenet))"
   ]
  },
  {
   "cell_type": "code",
   "execution_count": 60,
   "metadata": {},
   "outputs": [
    {
     "data": {
      "text/plain": [
       "<matplotlib.legend.Legend at 0x7fcbd6ff0908>"
      ]
     },
     "execution_count": 60,
     "metadata": {},
     "output_type": "execute_result"
    },
    {
     "data": {
      "image/png": "[encoded data removed]",
      "text/plain": [
       "<Figure size 432x288 with 1 Axes>"
      ]
     },
     "metadata": {
      "needs_background": "light"
     },
     "output_type": "display_data"
    }
   ],
   "source": [
    "\n",
    "plt.step(recall_densenet, precision_densenet, label='DenseNet121 PR = {:.3f}'.format(ap_densenet))\n",
    "plt.step(recall_mobilenet, precision_mobilenet, label='DenseNet121 PR = {:.3f}'.format(ap_mobilenet))\n",
    "plt.xlabel('Recall')\n",
    "plt.ylabel('Precision')\n",
    "plt.ylim([0.0, 1.05])\n",
    "plt.xlim([0.0, 1.0])\n",
    "plt.title('Precision-Recall curve')\n",
    "plt.legend(loc='best')"
   ]
  },
  {
   "cell_type": "markdown",
   "metadata": {},
   "source": [
    "Bootstrapped AUC for confidence intervals."
   ]
  },
  {
   "cell_type": "code",
   "execution_count": 61,
   "metadata": {},
   "outputs": [
    {
     "name": "stdout",
     "output_type": "stream",
     "text": [
      "Confidence interval for DenseNet121: [0.821 - 0.983]\n",
      "Confidence interval for MobileNetV2: [0.790 - 0.975]\n"
     ]
    }
   ],
   "source": [
    "from sklearn.utils import resample\n",
    "n_bootstraps = 10000\n",
    "seed = 42\n",
    "bootstrapped_mobilenet = []\n",
    "bootstrapped_densenet = []\n",
    "\n",
    "for i in range(n_bootstraps):\n",
    "    # prepare bootstrap sample\n",
    "    boot = resample(test, replace=True, n_samples=50)\n",
    "    if len(np.unique(boot['label'])) == 2:\n",
    "        score_mobilenet = roc_auc_score(boot['label'], boot['mobilenet'])\n",
    "        bootstrapped_mobilenet.append(score_mobilenet)\n",
    "        \n",
    "        score_densenet = roc_auc_score(boot['label'], boot['densenet'])\n",
    "        bootstrapped_densenet.append(score_densenet)\n",
    "\n",
    "sorted_mobilenet = np.array(bootstrapped_mobilenet)\n",
    "sorted_mobilenet.sort()\n",
    "\n",
    "sorted_densenet = np.array(bootstrapped_densenet)\n",
    "sorted_densenet.sort()\n",
    "\n",
    "confidence_lower_densenet = sorted_densenet[int(0.025 * len(sorted_densenet))]\n",
    "confidence_upper_densenet = sorted_densenet[int(0.975 * len(sorted_densenet))]\n",
    "print(\"Confidence interval for DenseNet121: [{:0.3f} - {:0.3}]\".format(\n",
    "    confidence_lower_densenet, confidence_upper_densenet))\n",
    "\n",
    "confidence_lower_mobilenet = sorted_mobilenet[int(0.025 * len(sorted_mobilenet))]\n",
    "confidence_upper_mobilenet = sorted_mobilenet[int(0.975 * len(sorted_mobilenet))]\n",
    "print(\"Confidence interval for MobileNetV2: [{:0.3f} - {:0.3}]\".format(\n",
    "    confidence_lower_mobilenet, confidence_upper_mobilenet))"
   ]
  },
  {
   "cell_type": "markdown",
   "metadata": {},
   "source": [
    "Get some other simple statistics for comparisons"
   ]
  },
  {
   "cell_type": "markdown",
   "metadata": {},
   "source": [
    "Overall we see that we are not significantly different from current state of the art models for the task of predicting pleural effusions.\n",
    "\n",
    "Lets see if certain groups by age and gender perform worst"
   ]
  },
  {
   "cell_type": "code",
   "execution_count": 76,
   "metadata": {},
   "outputs": [
    {
     "name": "stdout",
     "output_type": "stream",
     "text": [
      "<class 'pandas.core.frame.DataFrame'>\n",
      "RangeIndex: 200 entries, 0 to 199\n",
      "Data columns (total 11 columns):\n",
      "patient_id        200 non-null object\n",
      "study_id          200 non-null object\n",
      "Sex               200 non-null object\n",
      "Age               200 non-null int64\n",
      "label             200 non-null object\n",
      "mobilenet         200 non-null float32\n",
      "densenet          200 non-null float32\n",
      "mobilenet_pred    200 non-null float32\n",
      "densenet_pred     200 non-null float32\n",
      "age_bucket        200 non-null category\n",
      "combine           200 non-null float32\n",
      "dtypes: category(1), float32(5), int64(1), object(4)\n",
      "memory usage: 12.1+ KB\n"
     ]
    }
   ],
   "source": [
    "##clean up the age to int then create buckets\n",
    "test['Age'] = test['Age'].astype(str).astype(int)\n",
    "age_buckets = [0, 2, 5, 13, 18, 33, 48, 64, 78, 98]\n",
    "test['age_bucket'] = pd.cut(test['Age'], age_buckets)\n",
    "test['combine'] = test[['mobilenet','densenet']].mean(axis=1)\n",
    "test.info()"
   ]
  },
  {
   "cell_type": "code",
   "execution_count": 78,
   "metadata": {},
   "outputs": [],
   "source": [
    "#mapping to different labels\n",
    "labelMap = {'0': 0, '1' : 1, '-1' : 1}\n",
    "test['label'] = test['label'].map(labelMap)\n",
    "test['missclass_densenet'] = (test['label'] - test['densenet_pred']).abs()\n",
    "test['missclass_mobilenet'] = (test['label'] - test['mobilenet_pred']).abs()\n",
    "test['missclass_combined'] = (test['label'] - test['combine']).abs()"
   ]
  },
  {
   "cell_type": "code",
   "execution_count": 79,
   "metadata": {},
   "outputs": [
    {
     "data": {
      "text/html": [
       "<div>\n",
       "<style scoped>\n",
       "    .dataframe tbody tr th:only-of-type {\n",
       "        vertical-align: middle;\n",
       "    }\n",
       "\n",
       "    .dataframe tbody tr th {\n",
       "        vertical-align: top;\n",
       "    }\n",
       "\n",
       "    .dataframe thead th {\n",
       "        text-align: right;\n",
       "    }\n",
       "</style>\n",
       "<table border=\"1\" class=\"dataframe\">\n",
       "  <thead>\n",
       "    <tr style=\"text-align: right;\">\n",
       "      <th></th>\n",
       "      <th>patient_id</th>\n",
       "      <th>study_id</th>\n",
       "      <th>Sex</th>\n",
       "      <th>Age</th>\n",
       "      <th>label</th>\n",
       "      <th>mobilenet</th>\n",
       "      <th>densenet</th>\n",
       "      <th>mobilenet_pred</th>\n",
       "      <th>densenet_pred</th>\n",
       "      <th>age_bucket</th>\n",
       "      <th>combine</th>\n",
       "      <th>missclass_densenet</th>\n",
       "      <th>missclass_mobilenet</th>\n",
       "      <th>missclass_combined</th>\n",
       "    </tr>\n",
       "  </thead>\n",
       "  <tbody>\n",
       "    <tr>\n",
       "      <th>0</th>\n",
       "      <td>patient64541</td>\n",
       "      <td>study1</td>\n",
       "      <td>Male</td>\n",
       "      <td>73</td>\n",
       "      <td>0</td>\n",
       "      <td>0.122124</td>\n",
       "      <td>0.035437</td>\n",
       "      <td>0.0</td>\n",
       "      <td>0.0</td>\n",
       "      <td>(64, 78]</td>\n",
       "      <td>0.078780</td>\n",
       "      <td>0.0</td>\n",
       "      <td>0.0</td>\n",
       "      <td>0.078780</td>\n",
       "    </tr>\n",
       "    <tr>\n",
       "      <th>1</th>\n",
       "      <td>patient64542</td>\n",
       "      <td>study1</td>\n",
       "      <td>Male</td>\n",
       "      <td>70</td>\n",
       "      <td>0</td>\n",
       "      <td>0.082578</td>\n",
       "      <td>0.022680</td>\n",
       "      <td>0.0</td>\n",
       "      <td>0.0</td>\n",
       "      <td>(64, 78]</td>\n",
       "      <td>0.052629</td>\n",
       "      <td>0.0</td>\n",
       "      <td>0.0</td>\n",
       "      <td>0.052629</td>\n",
       "    </tr>\n",
       "    <tr>\n",
       "      <th>2</th>\n",
       "      <td>patient64543</td>\n",
       "      <td>study1</td>\n",
       "      <td>Male</td>\n",
       "      <td>85</td>\n",
       "      <td>0</td>\n",
       "      <td>0.604081</td>\n",
       "      <td>0.245853</td>\n",
       "      <td>1.0</td>\n",
       "      <td>0.0</td>\n",
       "      <td>(78, 98]</td>\n",
       "      <td>0.424967</td>\n",
       "      <td>0.0</td>\n",
       "      <td>1.0</td>\n",
       "      <td>0.424967</td>\n",
       "    </tr>\n",
       "    <tr>\n",
       "      <th>3</th>\n",
       "      <td>patient64544</td>\n",
       "      <td>study1</td>\n",
       "      <td>Female</td>\n",
       "      <td>42</td>\n",
       "      <td>0</td>\n",
       "      <td>0.023401</td>\n",
       "      <td>0.012708</td>\n",
       "      <td>0.0</td>\n",
       "      <td>0.0</td>\n",
       "      <td>(33, 48]</td>\n",
       "      <td>0.018054</td>\n",
       "      <td>0.0</td>\n",
       "      <td>0.0</td>\n",
       "      <td>0.018054</td>\n",
       "    </tr>\n",
       "    <tr>\n",
       "      <th>4</th>\n",
       "      <td>patient64545</td>\n",
       "      <td>study1</td>\n",
       "      <td>Female</td>\n",
       "      <td>55</td>\n",
       "      <td>1</td>\n",
       "      <td>0.671483</td>\n",
       "      <td>0.553526</td>\n",
       "      <td>1.0</td>\n",
       "      <td>1.0</td>\n",
       "      <td>(48, 64]</td>\n",
       "      <td>0.612505</td>\n",
       "      <td>0.0</td>\n",
       "      <td>0.0</td>\n",
       "      <td>0.387495</td>\n",
       "    </tr>\n",
       "  </tbody>\n",
       "</table>\n",
       "</div>"
      ],
      "text/plain": [
       "     patient_id study_id     Sex  Age  label  mobilenet  densenet  \\\n",
       "0  patient64541   study1    Male   73      0   0.122124  0.035437   \n",
       "1  patient64542   study1    Male   70      0   0.082578  0.022680   \n",
       "2  patient64543   study1    Male   85      0   0.604081  0.245853   \n",
       "3  patient64544   study1  Female   42      0   0.023401  0.012708   \n",
       "4  patient64545   study1  Female   55      1   0.671483  0.553526   \n",
       "\n",
       "   mobilenet_pred  densenet_pred age_bucket   combine  missclass_densenet  \\\n",
       "0             0.0            0.0   (64, 78]  0.078780                 0.0   \n",
       "1             0.0            0.0   (64, 78]  0.052629                 0.0   \n",
       "2             1.0            0.0   (78, 98]  0.424967                 0.0   \n",
       "3             0.0            0.0   (33, 48]  0.018054                 0.0   \n",
       "4             1.0            1.0   (48, 64]  0.612505                 0.0   \n",
       "\n",
       "   missclass_mobilenet  missclass_combined  \n",
       "0                  0.0            0.078780  \n",
       "1                  0.0            0.052629  \n",
       "2                  1.0            0.424967  \n",
       "3                  0.0            0.018054  \n",
       "4                  0.0            0.387495  "
      ]
     },
     "execution_count": 79,
     "metadata": {},
     "output_type": "execute_result"
    }
   ],
   "source": [
    "test.head()"
   ]
  },
  {
   "cell_type": "code",
   "execution_count": 70,
   "metadata": {},
   "outputs": [
    {
     "data": {
      "text/plain": [
       "<matplotlib.axes._subplots.AxesSubplot at 0x7fcbd6d0ed30>"
      ]
     },
     "execution_count": 70,
     "metadata": {},
     "output_type": "execute_result"
    },
    {
     "data": {
      "image/png": "[encoded data removed]",
      "text/plain": [
       "<Figure size 432x288 with 1 Axes>"
      ]
     },
     "metadata": {
      "needs_background": "light"
     },
     "output_type": "display_data"
    },
    {
     "data": {
      "image/png": "[encoded data removed]",
      "text/plain": [
       "<Figure size 432x288 with 1 Axes>"
      ]
     },
     "metadata": {
      "needs_background": "light"
     },
     "output_type": "display_data"
    },
    {
     "data": {
      "image/png": "[encoded data removed]",
      "text/plain": [
       "<Figure size 432x288 with 1 Axes>"
      ]
     },
     "metadata": {
      "needs_background": "light"
     },
     "output_type": "display_data"
    }
   ],
   "source": [
    "missclass_rate = test.groupby(['age_bucket', 'missclass_mobilenet']).size().unstack()\n",
    "test.groupby(['age_bucket', 'missclass_mobilenet']).size().unstack().plot(kind=\"bar\", stacked=True)\n",
    "test.groupby(['age_bucket', 'missclass_densenet']).size().unstack().plot(kind=\"bar\", stacked=True)\n",
    "test.groupby(['age_bucket', 'missclass_combined']).size().unstack().plot(kind=\"bar\", stacked=True)"
   ]
  },
  {
   "cell_type": "code",
   "execution_count": null,
   "metadata": {},
   "outputs": [],
   "source": [
    "fpr_19_33, tpr_19_33, thresholds_19_33 = roc_curve(labels, test['combine'])\n",
    "auc_19_33 = auc(fpr_19_33, tpr_19_33)\n",
    "\n",
    "fpr_34_48, tpr_34_48, thresholds_34_48 = roc_curve(labels, test['combine'])\n",
    "auc_34_48 = auc(fpr_34_48, tpr_34_48)\n",
    "\n",
    "fpr_49_64, tpr_49_64, thresholds_49_64 = roc_curve(labels, test['combine'])\n",
    "auc_49_64 = auc(fpr_49_64, tpr_49_64)\n",
    "\n",
    "fpr_65_78, tpr_65_78, thresholds_65_78 = roc_curve(labels, test['combine'])\n",
    "auc_65_78 = auc(fpr_65_78, tpr_65_78)\n",
    "\n",
    "fpr_79_98, tpr_79_98, thresholds_79_98 = roc_curve(labels, test['combine'])\n",
    "auc_79_98 = auc(fpr_79_98, tpr_79_98)\n",
    "\n",
    "\n"
   ]
  },
  {
   "cell_type": "code",
   "execution_count": 40,
   "metadata": {},
   "outputs": [
    {
     "data": {
      "text/plain": [
       "age_bucket\n",
       "(0, 2]           NaN\n",
       "(2, 5]           NaN\n",
       "(5, 13]          NaN\n",
       "(13, 18]    0.000000\n",
       "(18, 33]    0.000000\n",
       "(33, 48]    0.166667\n",
       "(48, 64]    0.086207\n",
       "(64, 78]    0.156863\n",
       "(78, 98]    0.200000\n",
       "Name: missclass_densenet, dtype: float64"
      ]
     },
     "execution_count": 40,
     "metadata": {},
     "output_type": "execute_result"
    }
   ],
   "source": [
    "propPleural = test.groupby(['age_bucket'])['missclass_densenet'].mean()\n",
    "propPleural"
   ]
  },
  {
   "cell_type": "code",
   "execution_count": 41,
   "metadata": {},
   "outputs": [
    {
     "data": {
      "text/plain": [
       "age_bucket\n",
       "(0, 2]           NaN\n",
       "(2, 5]           NaN\n",
       "(5, 13]          NaN\n",
       "(13, 18]    0.000000\n",
       "(18, 33]    0.000000\n",
       "(33, 48]    0.233333\n",
       "(48, 64]    0.103448\n",
       "(64, 78]    0.176471\n",
       "(78, 98]    0.225000\n",
       "Name: missclass_mobilenet, dtype: float64"
      ]
     },
     "execution_count": 41,
     "metadata": {},
     "output_type": "execute_result"
    }
   ],
   "source": [
    "propPleural = test.groupby(['age_bucket'])['missclass_mobilenet'].mean()\n",
    "propPleural"
   ]
  },
  {
   "cell_type": "markdown",
   "metadata": {},
   "source": [
    "### Appendix"
   ]
  },
  {
   "cell_type": "code",
   "execution_count": null,
   "metadata": {},
   "outputs": [],
   "source": [
    "\n",
    "def load_from_weights(conv_base, weights, shape = (320,320,3), pop = False):\n",
    "    \n",
    "    if conv_base == 'VGG16':\n",
    "        from keras.applications.vgg16 import VGG16 as BASE\n",
    "    elif conv_base == 'ResNet152':\n",
    "        from keras_applications.resnet import ResNet152 as BASE\n",
    "    elif conv_base == 'DenseNet121':\n",
    "        from keras.applications.densenet import DenseNet121 as BASE\n",
    "    elif conv_base == 'NASNetMobile':\n",
    "        from keras.applications.nasnet import NASNetMobile as BASE\n",
    "    elif conv_base == 'MobileNetV2':\n",
    "        from keras.applications.mobilenet_v2 import MobileNetV2 as BASE\n",
    "    elif conv_base == 'Xception':\n",
    "        from keras.applications.xception import Xception as BASE\n",
    "    else:\n",
    "        raise ValueError('Unknown model: {}'.format(conv_base))\n",
    "    \n",
    "    if pop:\n",
    "        conv_base = BASE(include_top=True, weights=None, pooling=max)\n",
    "\n",
    "        conv_base.layers.pop()\n",
    "        \n",
    "        #set all the layers to trainable\n",
    "        conv_base.trainable = True\n",
    "        for layer in conv_base.layers:\n",
    "            layer.trainable = True\n",
    "\n",
    "        model = models.Sequential()\n",
    "        model.add(conv_base)\n",
    "        model.add(layers.Dense(1, activation='sigmoid'))\n",
    "\n",
    "        model.load_weights(weights)\n",
    "\n",
    "        model.compile(loss='binary_crossentropy', optimizer= optimizers.Adam(), metrics=['accuracy'])\n",
    "        \n",
    "    else:\n",
    "        conv_base = BASE(include_top=False,\n",
    "                         weights=None,\n",
    "                         input_shape=shape,\n",
    "                         pooling=max)\n",
    "\n",
    "        #set all the layers to trainable\n",
    "        conv_base.trainable = True\n",
    "        for layer in conv_base.layers:\n",
    "            layer.trainable = True\n",
    "\n",
    "        model = models.Sequential()\n",
    "        model.add(conv_base)\n",
    "        model.add(layers.GlobalAveragePooling2D())\n",
    "        model.add(layers.Dense(1, activation='sigmoid'))\n",
    "\n",
    "        model.load_weights(weights)\n",
    "\n",
    "        model.compile(loss='binary_crossentropy', optimizer= optimizers.Adam(), metrics=['accuracy'])\n",
    "    return model"
   ]
  }
 ],
 "metadata": {
  "kernelspec": {
   "display_name": "Python 3",
   "language": "python",
   "name": "python3"
  },
  "language_info": {
   "codemirror_mode": {
    "name": "ipython",
    "version": 3
   },
   "file_extension": ".py",
   "mimetype": "text/x-python",
   "name": "python",
   "nbconvert_exporter": "python",
   "pygments_lexer": "ipython3",
   "version": "3.6.6"
  }
 },
 "nbformat": 4,
 "nbformat_minor": 2
}
