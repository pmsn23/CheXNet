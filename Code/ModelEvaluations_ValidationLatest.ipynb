{
 "cells": [
  {
   "cell_type": "code",
   "execution_count": 1,
   "metadata": {},
   "outputs": [
    {
     "name": "stderr",
     "output_type": "stream",
     "text": [
      "Using TensorFlow backend.\n"
     ]
    }
   ],
   "source": [
    "import pandas as pd\n",
    "import numpy as np\n",
    "import matplotlib.pyplot as plt\n",
    "\n",
    "from keras import models\n",
    "from keras import layers\n",
    "from keras import optimizers\n",
    "from keras_preprocessing.image import ImageDataGenerator\n",
    "from keras.models import load_model\n",
    "\n",
    "from sklearn.metrics import roc_curve, auc, roc_auc_score"
   ]
  },
  {
   "cell_type": "code",
   "execution_count": 2,
   "metadata": {},
   "outputs": [
    {
     "name": "stdout",
     "output_type": "stream",
     "text": [
      "0    167\n",
      "1     67\n",
      "Name: label, dtype: int64\n"
     ]
    }
   ],
   "source": [
    "# -----------------------------LOAD IN OUR DATA---------------------------------- #\n",
    "VALID = 'CheXpert-v1.0-small/valid.csv'\n",
    "\n",
    "# generate validation set\n",
    "valid = pd.read_csv(VALID, dtype=str)\n",
    "\n",
    "##clean up the age to int then create buckets\n",
    "valid['Age'] = valid['Age'].astype(str).astype(int)\n",
    "age_buckets = [0, 2, 5, 13, 18, 33, 48, 64, 78, 98]\n",
    "valid['age_bucket'] = pd.cut(valid['Age'], age_buckets)\n",
    "\n",
    "##parse the path into the respective categories\n",
    "new = valid[\"Path\"].str.split(\"/\", n = 5, expand = True)\n",
    "\n",
    "valid['Folder'] = new[0]\n",
    "valid['Data'] = new[1]\n",
    "valid['Patient'] = new[2]\n",
    "valid['Study'] = new[3]\n",
    "valid['viewNumber']= new[4].str.split(\"_\", n = 2, expand = True)[0]\n",
    "valid['ImageType']= new[4].str.split(\"_\", n = 2, expand = True)[1]\n",
    "\n",
    "#mapping to different labels\n",
    "label = {'0.0': '0', '1.0' : '1', '-1.0' : '1'}\n",
    "\n",
    "#same for validation set even though there should be no issue here with missing data\n",
    "valid['label'] = valid['Pleural Effusion'].map(label)\n",
    "num_valid = len(valid)\n",
    "\n",
    "print(valid['label'].value_counts())\n"
   ]
  },
  {
   "cell_type": "code",
   "execution_count": 18,
   "metadata": {},
   "outputs": [],
   "source": [
    "#---------------------------------CREATE TEST DATA GENERATOR---------------------------------#\n",
    "def test_flow(valid, target_size, batch_size = 1, color_mode=\"rgb\",  x = 'Path', y= 'label'):\n",
    "\n",
    "    #declare the datagen options\n",
    "    valid_datagen = ImageDataGenerator(rescale=1./255)\n",
    "\n",
    "    valid_generator = valid_datagen.flow_from_dataframe(dataframe=valid,\n",
    "                                                        directory=None,\n",
    "                                                        x_col=x,\n",
    "                                                        y_col=y,\n",
    "                                                        class_mode=\"binary\",\n",
    "                                                        color_mode=color_mode,\n",
    "                                                        seed = 42,\n",
    "                                                        shuffle = False,\n",
    "                                                        target_size=target_size,\n",
    "                                                        batch_size=batch_size)\n",
    "\n",
    "    return valid_generator"
   ]
  },
  {
   "cell_type": "markdown",
   "metadata": {},
   "source": [
    "## DenseNet Evaluation"
   ]
  },
  {
   "cell_type": "code",
   "execution_count": 19,
   "metadata": {},
   "outputs": [
    {
     "name": "stdout",
     "output_type": "stream",
     "text": [
      "Found 234 validated image filenames belonging to 2 classes.\n"
     ]
    }
   ],
   "source": [
    "valid_generator = test_flow(valid, (224,224), color_mode=\"rgb\")"
   ]
  },
  {
   "cell_type": "code",
   "execution_count": 23,
   "metadata": {},
   "outputs": [
    {
     "name": "stdout",
     "output_type": "stream",
     "text": [
      "_________________________________________________________________\n",
      "Layer (type)                 Output Shape              Param #   \n",
      "=================================================================\n",
      "densenet121 (Model)          (None, 1000)              7037504   \n",
      "_________________________________________________________________\n",
      "dense_3 (Dense)              (None, 1)                 1001      \n",
      "=================================================================\n",
      "Total params: 7,038,505\n",
      "Trainable params: 6,954,857\n",
      "Non-trainable params: 83,648\n",
      "_________________________________________________________________\n",
      "None\n"
     ]
    }
   ],
   "source": [
    "from keras.applications.densenet import DenseNet121 as BASE\n",
    "WEIGHTS = 'DenseNet121_16_6_weights_lr_reduce_from32.hdf5'\n",
    "\n",
    "conv_base = BASE(include_top=True,\n",
    "                input_shape=valid_generator.image_shape,\n",
    "                pooling=max)\n",
    "\n",
    "conv_base.layers.pop()\n",
    "# print(conv_base.summary())\n",
    "\n",
    "# conv_base.trainable = True\n",
    "# for layer in conv_base.layers:\n",
    "#     layer.trainable = True\n",
    "\n",
    "model = models.Sequential()\n",
    "model.add(conv_base)\n",
    "model.add(layers.Dense(1, activation='sigmoid'))\n",
    "\n",
    "if WEIGHTS:\n",
    "    model.load_weights(WEIGHTS)\n",
    "\n",
    "model.compile(loss='binary_crossentropy', optimizer= optimizers.Adam(), metrics=['accuracy'])\n",
    "print(model.summary())"
   ]
  },
  {
   "cell_type": "code",
   "execution_count": 24,
   "metadata": {},
   "outputs": [
    {
     "name": "stdout",
     "output_type": "stream",
     "text": [
      "--------------------------\n",
      "\n",
      "Accuracy (Evaluation Generator)=  0.8803418803418803\n",
      "\n"
     ]
    }
   ],
   "source": [
    "scoreSeg = model.evaluate_generator(valid_generator, steps=len(valid), workers=0)\n",
    "print('--------------------------')\n",
    "print('')\n",
    "print(\"Accuracy (Evaluation Generator)= \",scoreSeg[1])\n",
    "print('')"
   ]
  },
  {
   "cell_type": "code",
   "execution_count": 25,
   "metadata": {},
   "outputs": [
    {
     "name": "stdout",
     "output_type": "stream",
     "text": [
      "234/234 [==============================] - 84s 357ms/step\n"
     ]
    }
   ],
   "source": [
    "valid_generator.reset()\n",
    "STEP_SIZE_VALID=valid_generator.n//valid_generator.batch_size\n",
    "\n",
    "y_pred = model.predict_generator(valid_generator, steps=STEP_SIZE_VALID, verbose=1, workers=0)"
   ]
  },
  {
   "cell_type": "code",
   "execution_count": 26,
   "metadata": {},
   "outputs": [
    {
     "data": {
      "text/html": [
       "<div>\n",
       "<style scoped>\n",
       "    .dataframe tbody tr th:only-of-type {\n",
       "        vertical-align: middle;\n",
       "    }\n",
       "\n",
       "    .dataframe tbody tr th {\n",
       "        vertical-align: top;\n",
       "    }\n",
       "\n",
       "    .dataframe thead th {\n",
       "        text-align: right;\n",
       "    }\n",
       "</style>\n",
       "<table border=\"1\" class=\"dataframe\">\n",
       "  <thead>\n",
       "    <tr style=\"text-align: right;\">\n",
       "      <th>y_pred_densenet</th>\n",
       "      <th>0.0</th>\n",
       "      <th>1.0</th>\n",
       "    </tr>\n",
       "    <tr>\n",
       "      <th>label</th>\n",
       "      <th></th>\n",
       "      <th></th>\n",
       "    </tr>\n",
       "  </thead>\n",
       "  <tbody>\n",
       "    <tr>\n",
       "      <th>0</th>\n",
       "      <td>161</td>\n",
       "      <td>6</td>\n",
       "    </tr>\n",
       "    <tr>\n",
       "      <th>1</th>\n",
       "      <td>22</td>\n",
       "      <td>45</td>\n",
       "    </tr>\n",
       "  </tbody>\n",
       "</table>\n",
       "</div>"
      ],
      "text/plain": [
       "y_pred_densenet  0.0  1.0\n",
       "label                    \n",
       "0                161    6\n",
       "1                 22   45"
      ]
     },
     "execution_count": 26,
     "metadata": {},
     "output_type": "execute_result"
    }
   ],
   "source": [
    "valid['densenet'] = y_pred\n",
    "\n",
    "valid['y_pred_densenet'] = round(valid['densenet'])\n",
    "\n",
    "pd.crosstab(valid['label'], valid['y_pred_densenet'])"
   ]
  },
  {
   "cell_type": "markdown",
   "metadata": {},
   "source": [
    "One issue we see immediately is the ammount of false negatives in our group. I would think that is our most concerning group as it shows that we miss almost 32% of our positive cases! This makes some sense as we have an imbalanced training data set."
   ]
  },
  {
   "cell_type": "code",
   "execution_count": 27,
   "metadata": {},
   "outputs": [
    {
     "name": "stdout",
     "output_type": "stream",
     "text": [
      "--------------------------\n",
      "\n",
      "Model AUC: 0.9198\n",
      "\n",
      "--------------------------\n"
     ]
    }
   ],
   "source": [
    "fpr_keras, tpr_keras, thresholds_keras = roc_curve(valid_generator.classes, y_pred)\n",
    "auc_keras = auc(fpr_keras, tpr_keras)\n",
    "print('--------------------------')\n",
    "print('')\n",
    "print('Model AUC: %s' % str(round(auc_keras, 4)))\n",
    "print('')\n",
    "print('--------------------------')"
   ]
  },
  {
   "cell_type": "code",
   "execution_count": 28,
   "metadata": {
    "scrolled": true
   },
   "outputs": [
    {
     "data": {
      "image/png": "[encoded data removed]",
      "text/plain": [
       "<Figure size 432x288 with 1 Axes>"
      ]
     },
     "metadata": {
      "needs_background": "light"
     },
     "output_type": "display_data"
    }
   ],
   "source": [
    "plt.figure(1)\n",
    "plt.plot([0, 1], [0, 1], 'k--')\n",
    "plt.plot(fpr_keras, tpr_keras, label='area = {:.3f}'.format(auc_keras))\n",
    "plt.xlabel('False positive rate')\n",
    "plt.ylabel('True positive rate')\n",
    "plt.title('ROC curve')\n",
    "plt.legend(loc='best')\n",
    "plt.show()"
   ]
  },
  {
   "cell_type": "markdown",
   "metadata": {},
   "source": [
    "Our model AUC is not significantly worse that the baseline, although it does not perform better, and considering our errors are primarily related to false negatives it is difficult to gauge the reliability of this model."
   ]
  },
  {
   "cell_type": "markdown",
   "metadata": {},
   "source": [
    "## MobileNetV2 Evaluations"
   ]
  },
  {
   "cell_type": "code",
   "execution_count": 32,
   "metadata": {},
   "outputs": [
    {
     "name": "stdout",
     "output_type": "stream",
     "text": [
      "Found 234 validated image filenames belonging to 2 classes.\n"
     ]
    }
   ],
   "source": [
    "valid_generator = test_flow(valid, (320,320), color_mode=\"rgb\")"
   ]
  },
  {
   "cell_type": "code",
   "execution_count": 30,
   "metadata": {},
   "outputs": [
    {
     "name": "stdout",
     "output_type": "stream",
     "text": [
      "_________________________________________________________________\n",
      "Layer (type)                 Output Shape              Param #   \n",
      "=================================================================\n",
      "mobilenetv2_1.00_320 (Model) (None, 10, 10, 1280)      2257984   \n",
      "_________________________________________________________________\n",
      "global_average_pooling2d_1 ( (None, 1280)              0         \n",
      "_________________________________________________________________\n",
      "dense_1 (Dense)              (None, 1)                 1281      \n",
      "=================================================================\n",
      "Total params: 2,259,265\n",
      "Trainable params: 2,225,153\n",
      "Non-trainable params: 34,112\n",
      "_________________________________________________________________\n"
     ]
    }
   ],
   "source": [
    "# load model\n",
    "model = load_model('/home/newall/MSDS/MSDSCapstone/MobileNetV2_16_6_model_320x320_v2.h5')\n",
    "model.summary()"
   ]
  },
  {
   "cell_type": "code",
   "execution_count": 33,
   "metadata": {},
   "outputs": [
    {
     "name": "stdout",
     "output_type": "stream",
     "text": [
      "--------------------------\n",
      "\n",
      "Accuracy (Evaluation Generator)=  0.8547008547008547\n",
      "\n"
     ]
    }
   ],
   "source": [
    "scoreSeg = model.evaluate_generator(valid_generator, steps=len(valid), workers=0)\n",
    "print('--------------------------')\n",
    "print('')\n",
    "print(\"Accuracy (Evaluation Generator)= \",scoreSeg[1])\n",
    "print('')"
   ]
  },
  {
   "cell_type": "code",
   "execution_count": 34,
   "metadata": {},
   "outputs": [
    {
     "name": "stdout",
     "output_type": "stream",
     "text": [
      "234/234 [==============================] - 68s 291ms/step\n"
     ]
    }
   ],
   "source": [
    "valid_generator.reset()\n",
    "STEP_SIZE_VALID=valid_generator.n//valid_generator.batch_size\n",
    "\n",
    "y_pred = model.predict_generator(valid_generator, steps=STEP_SIZE_VALID, verbose=1, workers=0)"
   ]
  },
  {
   "cell_type": "code",
   "execution_count": 35,
   "metadata": {},
   "outputs": [
    {
     "data": {
      "text/html": [
       "<div>\n",
       "<style scoped>\n",
       "    .dataframe tbody tr th:only-of-type {\n",
       "        vertical-align: middle;\n",
       "    }\n",
       "\n",
       "    .dataframe tbody tr th {\n",
       "        vertical-align: top;\n",
       "    }\n",
       "\n",
       "    .dataframe thead th {\n",
       "        text-align: right;\n",
       "    }\n",
       "</style>\n",
       "<table border=\"1\" class=\"dataframe\">\n",
       "  <thead>\n",
       "    <tr style=\"text-align: right;\">\n",
       "      <th>y_pred_mobilenet</th>\n",
       "      <th>0.0</th>\n",
       "      <th>1.0</th>\n",
       "    </tr>\n",
       "    <tr>\n",
       "      <th>label</th>\n",
       "      <th></th>\n",
       "      <th></th>\n",
       "    </tr>\n",
       "  </thead>\n",
       "  <tbody>\n",
       "    <tr>\n",
       "      <th>0</th>\n",
       "      <td>151</td>\n",
       "      <td>16</td>\n",
       "    </tr>\n",
       "    <tr>\n",
       "      <th>1</th>\n",
       "      <td>18</td>\n",
       "      <td>49</td>\n",
       "    </tr>\n",
       "  </tbody>\n",
       "</table>\n",
       "</div>"
      ],
      "text/plain": [
       "y_pred_mobilenet  0.0  1.0\n",
       "label                     \n",
       "0                 151   16\n",
       "1                  18   49"
      ]
     },
     "execution_count": 35,
     "metadata": {},
     "output_type": "execute_result"
    }
   ],
   "source": [
    "valid['mobilenet'] = y_pred\n",
    "\n",
    "valid['y_pred_mobilenet'] = round(valid['mobilenet'])\n",
    "\n",
    "pd.crosstab(valid['label'], valid['y_pred_mobilenet'])"
   ]
  },
  {
   "cell_type": "code",
   "execution_count": 36,
   "metadata": {},
   "outputs": [
    {
     "name": "stdout",
     "output_type": "stream",
     "text": [
      "--------------------------\n",
      "\n",
      "Model AUC: 0.9002\n",
      "\n",
      "--------------------------\n"
     ]
    }
   ],
   "source": [
    "fpr_keras, tpr_keras, thresholds_keras = roc_curve(valid_generator.classes, y_pred)\n",
    "auc_keras = auc(fpr_keras, tpr_keras)\n",
    "print('--------------------------')\n",
    "print('')\n",
    "print('Model AUC: %s' % str(round(auc_keras, 4)))\n",
    "print('')\n",
    "print('--------------------------')"
   ]
  },
  {
   "cell_type": "code",
   "execution_count": 37,
   "metadata": {},
   "outputs": [
    {
     "data": {
      "image/png": "[encoded data removed]",
      "text/plain": [
       "<Figure size 432x288 with 1 Axes>"
      ]
     },
     "metadata": {
      "needs_background": "light"
     },
     "output_type": "display_data"
    }
   ],
   "source": [
    "plt.figure(1)\n",
    "plt.plot([0, 1], [0, 1], 'k--')\n",
    "plt.plot(fpr_keras, tpr_keras, label='area = {:.3f}'.format(auc_keras))\n",
    "plt.xlabel('False positive rate')\n",
    "plt.ylabel('True positive rate')\n",
    "plt.title('ROC curve')\n",
    "plt.legend(loc='best')\n",
    "plt.show()"
   ]
  },
  {
   "cell_type": "markdown",
   "metadata": {},
   "source": [
    "## Patient Level Evaluations"
   ]
  },
  {
   "cell_type": "code",
   "execution_count": 65,
   "metadata": {},
   "outputs": [],
   "source": [
    "valid['patient_id'] = [item[2] for item in valid['Path'].str.split(\"/\")]\n",
    "valid['study_id'] = [item[3] for item in valid['Path'].str.split(\"/\")]"
   ]
  },
  {
   "cell_type": "code",
   "execution_count": 66,
   "metadata": {},
   "outputs": [],
   "source": [
    "groupLabel = ['patient_id','study_id','Sex','Age','label']\n",
    "test = valid[['patient_id','study_id','Sex','Age','label','mobilenet','densenet']].groupby(groupLabel).max().reset_index()"
   ]
  },
  {
   "cell_type": "code",
   "execution_count": 67,
   "metadata": {},
   "outputs": [
    {
     "data": {
      "text/html": [
       "<div>\n",
       "<style scoped>\n",
       "    .dataframe tbody tr th:only-of-type {\n",
       "        vertical-align: middle;\n",
       "    }\n",
       "\n",
       "    .dataframe tbody tr th {\n",
       "        vertical-align: top;\n",
       "    }\n",
       "\n",
       "    .dataframe thead th {\n",
       "        text-align: right;\n",
       "    }\n",
       "</style>\n",
       "<table border=\"1\" class=\"dataframe\">\n",
       "  <thead>\n",
       "    <tr style=\"text-align: right;\">\n",
       "      <th>mobilenet_pred</th>\n",
       "      <th>0.0</th>\n",
       "      <th>1.0</th>\n",
       "    </tr>\n",
       "    <tr>\n",
       "      <th>label</th>\n",
       "      <th></th>\n",
       "      <th></th>\n",
       "    </tr>\n",
       "  </thead>\n",
       "  <tbody>\n",
       "    <tr>\n",
       "      <th>0</th>\n",
       "      <td>120</td>\n",
       "      <td>16</td>\n",
       "    </tr>\n",
       "    <tr>\n",
       "      <th>1</th>\n",
       "      <td>15</td>\n",
       "      <td>49</td>\n",
       "    </tr>\n",
       "  </tbody>\n",
       "</table>\n",
       "</div>"
      ],
      "text/plain": [
       "mobilenet_pred  0.0  1.0\n",
       "label                   \n",
       "0               120   16\n",
       "1                15   49"
      ]
     },
     "execution_count": 67,
     "metadata": {},
     "output_type": "execute_result"
    }
   ],
   "source": [
    "test['mobilenet_pred'] = round(test['mobilenet'])\n",
    "test['densenet_pred'] = round(test['densenet'])\n",
    "\n",
    "pd.crosstab(test['label'], test['mobilenet_pred'])"
   ]
  },
  {
   "cell_type": "code",
   "execution_count": 68,
   "metadata": {},
   "outputs": [
    {
     "data": {
      "text/html": [
       "<div>\n",
       "<style scoped>\n",
       "    .dataframe tbody tr th:only-of-type {\n",
       "        vertical-align: middle;\n",
       "    }\n",
       "\n",
       "    .dataframe tbody tr th {\n",
       "        vertical-align: top;\n",
       "    }\n",
       "\n",
       "    .dataframe thead th {\n",
       "        text-align: right;\n",
       "    }\n",
       "</style>\n",
       "<table border=\"1\" class=\"dataframe\">\n",
       "  <thead>\n",
       "    <tr style=\"text-align: right;\">\n",
       "      <th>densenet_pred</th>\n",
       "      <th>0.0</th>\n",
       "      <th>1.0</th>\n",
       "    </tr>\n",
       "    <tr>\n",
       "      <th>label</th>\n",
       "      <th></th>\n",
       "      <th></th>\n",
       "    </tr>\n",
       "  </thead>\n",
       "  <tbody>\n",
       "    <tr>\n",
       "      <th>0</th>\n",
       "      <td>130</td>\n",
       "      <td>6</td>\n",
       "    </tr>\n",
       "    <tr>\n",
       "      <th>1</th>\n",
       "      <td>20</td>\n",
       "      <td>44</td>\n",
       "    </tr>\n",
       "  </tbody>\n",
       "</table>\n",
       "</div>"
      ],
      "text/plain": [
       "densenet_pred  0.0  1.0\n",
       "label                  \n",
       "0              130    6\n",
       "1               20   44"
      ]
     },
     "execution_count": 68,
     "metadata": {},
     "output_type": "execute_result"
    }
   ],
   "source": [
    "pd.crosstab(test['label'], test['densenet_pred'])"
   ]
  },
  {
   "cell_type": "code",
   "execution_count": 44,
   "metadata": {
    "scrolled": true
   },
   "outputs": [],
   "source": [
    "labels = list(map(int, list(test['label'])))"
   ]
  },
  {
   "cell_type": "code",
   "execution_count": 45,
   "metadata": {},
   "outputs": [
    {
     "name": "stdout",
     "output_type": "stream",
     "text": [
      "--------------------------\n",
      "\n",
      "MobileNet AUC: 0.8953\n",
      "\n",
      "--------------------------\n"
     ]
    }
   ],
   "source": [
    "fpr_mobilenet, tpr_mobilenet, thresholds_mobilenet = roc_curve(labels, test['mobilenet'])\n",
    "auc_mobilenet = auc(fpr_mobilenet, tpr_mobilenet)\n",
    "print('--------------------------')\n",
    "print('')\n",
    "print('MobileNet AUC: %s' % str(round(auc_mobilenet, 4)))\n",
    "print('')\n",
    "print('--------------------------')"
   ]
  },
  {
   "cell_type": "code",
   "execution_count": 46,
   "metadata": {},
   "outputs": [
    {
     "name": "stdout",
     "output_type": "stream",
     "text": [
      "--------------------------\n",
      "\n",
      "DenseNet121 AUC: 0.9148\n",
      "\n",
      "--------------------------\n"
     ]
    }
   ],
   "source": [
    "fpr_densenet, tpr_densenet, thresholds_densenet = roc_curve(labels, test['densenet'])\n",
    "auc_densenet = auc(fpr_densenet, tpr_densenet)\n",
    "print('--------------------------')\n",
    "print('')\n",
    "print('DenseNet121 AUC: %s' % str(round(auc_densenet, 4)))\n",
    "print('')\n",
    "print('--------------------------')"
   ]
  },
  {
   "cell_type": "code",
   "execution_count": 48,
   "metadata": {},
   "outputs": [
    {
     "data": {
      "image/png": "[encoded data removed]",
      "text/plain": [
       "<Figure size 432x288 with 1 Axes>"
      ]
     },
     "metadata": {
      "needs_background": "light"
     },
     "output_type": "display_data"
    }
   ],
   "source": [
    "plt.figure(1)\n",
    "plt.plot([0, 1], [0, 1], 'k--')\n",
    "plt.plot(fpr_densenet, tpr_densenet, label='DenseNet121 area = {:.3f}'.format(auc_densenet))\n",
    "plt.plot(fpr_mobilenet, tpr_mobilenet, label='MobileNetV2 area = {:.3f}'.format(auc_mobilenet))\n",
    "plt.xlabel('False positive rate')\n",
    "plt.ylabel('True positive rate')\n",
    "plt.title('ROC curve')\n",
    "plt.legend(loc='best')\n",
    "plt.show()"
   ]
  },
  {
   "cell_type": "markdown",
   "metadata": {},
   "source": [
    "Bootstrapped AUC for confidence intervals."
   ]
  },
  {
   "cell_type": "code",
   "execution_count": 49,
   "metadata": {},
   "outputs": [
    {
     "name": "stdout",
     "output_type": "stream",
     "text": [
      "Confidence interval for DenseNet121: [0.821 - 0.984]\n",
      "Confidence interval for MobileNetV2: [0.789 - 0.975]\n"
     ]
    }
   ],
   "source": [
    "from sklearn.utils import resample\n",
    "n_bootstraps = 10000\n",
    "seed = 42\n",
    "bootstrapped_mobilenet = []\n",
    "bootstrapped_densenet = []\n",
    "\n",
    "for i in range(n_bootstraps):\n",
    "    # prepare bootstrap sample\n",
    "    boot = resample(test, replace=True, n_samples=50)\n",
    "    if len(np.unique(boot['label'])) == 2:\n",
    "        score_mobilenet = roc_auc_score(boot['label'], boot['mobilenet'])\n",
    "        bootstrapped_mobilenet.append(score_mobilenet)\n",
    "        \n",
    "        score_densenet = roc_auc_score(boot['label'], boot['densenet'])\n",
    "        bootstrapped_densenet.append(score_densenet)\n",
    "\n",
    "sorted_mobilenet = np.array(bootstrapped_mobilenet)\n",
    "sorted_mobilenet.sort()\n",
    "\n",
    "sorted_densenet = np.array(bootstrapped_densenet)\n",
    "sorted_densenet.sort()\n",
    "\n",
    "confidence_lower_densenet = sorted_densenet[int(0.025 * len(sorted_densenet))]\n",
    "confidence_upper_densenet = sorted_densenet[int(0.975 * len(sorted_densenet))]\n",
    "print(\"Confidence interval for DenseNet121: [{:0.3f} - {:0.3}]\".format(\n",
    "    confidence_lower_densenet, confidence_upper_densenet))\n",
    "\n",
    "confidence_lower_mobilenet = sorted_mobilenet[int(0.025 * len(sorted_mobilenet))]\n",
    "confidence_upper_mobilenet = sorted_mobilenet[int(0.975 * len(sorted_mobilenet))]\n",
    "print(\"Confidence interval for MobileNetV2: [{:0.3f} - {:0.3}]\".format(\n",
    "    confidence_lower_mobilenet, confidence_upper_mobilenet))"
   ]
  },
  {
   "cell_type": "markdown",
   "metadata": {},
   "source": [
    "Get some other simple statistics for comparisons"
   ]
  },
  {
   "cell_type": "markdown",
   "metadata": {},
   "source": [
    "Overall we see that we are not significantly different from current state of the art models for the task of predicting pleural effusions.\n",
    "\n",
    "Lets see if certain groups by age and gender perform worst"
   ]
  },
  {
   "cell_type": "code",
   "execution_count": 69,
   "metadata": {},
   "outputs": [
    {
     "name": "stdout",
     "output_type": "stream",
     "text": [
      "<class 'pandas.core.frame.DataFrame'>\n",
      "RangeIndex: 200 entries, 0 to 199\n",
      "Data columns (total 10 columns):\n",
      "patient_id        200 non-null object\n",
      "study_id          200 non-null object\n",
      "Sex               200 non-null object\n",
      "Age               200 non-null int64\n",
      "label             200 non-null object\n",
      "mobilenet         200 non-null float32\n",
      "densenet          200 non-null float32\n",
      "mobilenet_pred    200 non-null float32\n",
      "densenet_pred     200 non-null float32\n",
      "age_bucket        200 non-null category\n",
      "dtypes: category(1), float32(4), int64(1), object(4)\n",
      "memory usage: 11.4+ KB\n"
     ]
    }
   ],
   "source": [
    "##clean up the age to int then create buckets\n",
    "test['Age'] = test['Age'].astype(str).astype(int)\n",
    "age_buckets = [0, 2, 5, 13, 18, 33, 48, 64, 78, 98]\n",
    "test['age_bucket'] = pd.cut(test['Age'], age_buckets)\n",
    "test.info()"
   ]
  },
  {
   "cell_type": "code",
   "execution_count": 70,
   "metadata": {},
   "outputs": [],
   "source": [
    "#mapping to different labels\n",
    "labelMap = {'0': 0, '1' : 1, '-1' : 1}\n",
    "test['label'] = test['label'].map(labelMap)\n",
    "test['missclass_densenet'] = (test['label'] - test['densenet_pred']).abs()\n",
    "test['missclass_mobilenet'] = (test['label'] - test['mobilenet_pred']).abs()"
   ]
  },
  {
   "cell_type": "code",
   "execution_count": 71,
   "metadata": {},
   "outputs": [
    {
     "data": {
      "text/plain": [
       "age_bucket\n",
       "(0, 2]           NaN\n",
       "(2, 5]           NaN\n",
       "(5, 13]          NaN\n",
       "(13, 18]    0.000000\n",
       "(18, 33]    0.000000\n",
       "(33, 48]    0.166667\n",
       "(48, 64]    0.086207\n",
       "(64, 78]    0.156863\n",
       "(78, 98]    0.200000\n",
       "Name: missclass_densenet, dtype: float64"
      ]
     },
     "execution_count": 71,
     "metadata": {},
     "output_type": "execute_result"
    }
   ],
   "source": [
    "propPleural = test.groupby(['age_bucket'])['missclass_densenet'].mean()\n",
    "propPleural"
   ]
  },
  {
   "cell_type": "code",
   "execution_count": 72,
   "metadata": {},
   "outputs": [
    {
     "data": {
      "text/plain": [
       "age_bucket\n",
       "(0, 2]           NaN\n",
       "(2, 5]           NaN\n",
       "(5, 13]          NaN\n",
       "(13, 18]    0.000000\n",
       "(18, 33]    0.000000\n",
       "(33, 48]    0.233333\n",
       "(48, 64]    0.103448\n",
       "(64, 78]    0.176471\n",
       "(78, 98]    0.225000\n",
       "Name: missclass_mobilenet, dtype: float64"
      ]
     },
     "execution_count": 72,
     "metadata": {},
     "output_type": "execute_result"
    }
   ],
   "source": [
    "propPleural = test.groupby(['age_bucket'])['missclass_mobilenet'].mean()\n",
    "propPleural"
   ]
  },
  {
   "cell_type": "markdown",
   "metadata": {},
   "source": [
    "### Appendix"
   ]
  },
  {
   "cell_type": "code",
   "execution_count": 14,
   "metadata": {},
   "outputs": [],
   "source": [
    "\n",
    "def load_from_weights(conv_base, weights, shape = (320,320,3), pop = False):\n",
    "    \n",
    "    if conv_base == 'VGG16':\n",
    "        from keras.applications.vgg16 import VGG16 as BASE\n",
    "    elif conv_base == 'ResNet152':\n",
    "        from keras_applications.resnet import ResNet152 as BASE\n",
    "    elif conv_base == 'DenseNet121':\n",
    "        from keras.applications.densenet import DenseNet121 as BASE\n",
    "    elif conv_base == 'NASNetMobile':\n",
    "        from keras.applications.nasnet import NASNetMobile as BASE\n",
    "    elif conv_base == 'MobileNetV2':\n",
    "        from keras.applications.mobilenet_v2 import MobileNetV2 as BASE\n",
    "    elif conv_base == 'Xception':\n",
    "        from keras.applications.xception import Xception as BASE\n",
    "    else:\n",
    "        raise ValueError('Unknown model: {}'.format(conv_base))\n",
    "    \n",
    "    if pop:\n",
    "        conv_base = BASE(include_top=True, weights=None, pooling=max)\n",
    "\n",
    "        conv_base.layers.pop()\n",
    "        \n",
    "        #set all the layers to trainable\n",
    "        conv_base.trainable = True\n",
    "        for layer in conv_base.layers:\n",
    "            layer.trainable = True\n",
    "\n",
    "        model = models.Sequential()\n",
    "        model.add(conv_base)\n",
    "        model.add(layers.Dense(1, activation='sigmoid'))\n",
    "\n",
    "        model.load_weights(weights)\n",
    "\n",
    "        model.compile(loss='binary_crossentropy', optimizer= optimizers.Adam(), metrics=['accuracy'])\n",
    "        \n",
    "    else:\n",
    "        conv_base = BASE(include_top=False,\n",
    "                         weights=None,\n",
    "                         input_shape=shape,\n",
    "                         pooling=max)\n",
    "\n",
    "        #set all the layers to trainable\n",
    "        conv_base.trainable = True\n",
    "        for layer in conv_base.layers:\n",
    "            layer.trainable = True\n",
    "\n",
    "        model = models.Sequential()\n",
    "        model.add(conv_base)\n",
    "        model.add(layers.GlobalAveragePooling2D())\n",
    "        model.add(layers.Dense(1, activation='sigmoid'))\n",
    "\n",
    "        model.load_weights(weights)\n",
    "\n",
    "        model.compile(loss='binary_crossentropy', optimizer= optimizers.Adam(), metrics=['accuracy'])\n",
    "    return model"
   ]
  }
 ],
 "metadata": {
  "kernelspec": {
   "display_name": "Python 3",
   "language": "python",
   "name": "python3"
  },
  "language_info": {
   "codemirror_mode": {
    "name": "ipython",
    "version": 3
   },
   "file_extension": ".py",
   "mimetype": "text/x-python",
   "name": "python",
   "nbconvert_exporter": "python",
   "pygments_lexer": "ipython3",
   "version": "3.6.6"
  }
 },
 "nbformat": 4,
 "nbformat_minor": 2
}
