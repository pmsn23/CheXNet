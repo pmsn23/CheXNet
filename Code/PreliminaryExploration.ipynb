{
 "cells": [
  {
   "cell_type": "markdown",
   "metadata": {},
   "source": [
    "# CheXpert Data Exploration"
   ]
  },
  {
   "cell_type": "code",
   "execution_count": 2,
   "metadata": {},
   "outputs": [],
   "source": [
    "import numpy as np\n",
    "import pandas as pd\n",
    "import matplotlib.pyplot as plt\n",
    "import seaborn as sns\n",
    "\n",
    "from keras_preprocessing.image import ImageDataGenerator\n",
    "from keras import layers\n",
    "from keras import models\n",
    "from keras import optimizers"
   ]
  },
  {
   "cell_type": "code",
   "execution_count": 3,
   "metadata": {
    "scrolled": true
   },
   "outputs": [
    {
     "name": "stdout",
     "output_type": "stream",
     "text": [
      "<class 'pandas.core.frame.DataFrame'>\n",
      "RangeIndex: 223414 entries, 0 to 223413\n",
      "Data columns (total 19 columns):\n",
      "Path                          223414 non-null object\n",
      "Sex                           223414 non-null object\n",
      "Age                           223414 non-null object\n",
      "Frontal/Lateral               223414 non-null object\n",
      "AP/PA                         191027 non-null object\n",
      "No Finding                    22381 non-null object\n",
      "Enlarged Cardiomediastinum    44839 non-null object\n",
      "Cardiomegaly                  46203 non-null object\n",
      "Lung Opacity                  117778 non-null object\n",
      "Lung Lesion                   11944 non-null object\n",
      "Edema                         85956 non-null object\n",
      "Consolidation                 70622 non-null object\n",
      "Pneumonia                     27608 non-null object\n",
      "Atelectasis                   68443 non-null object\n",
      "Pneumothorax                  78934 non-null object\n",
      "Pleural Effusion              133211 non-null object\n",
      "Pleural Other                 6492 non-null object\n",
      "Fracture                      12194 non-null object\n",
      "Support Devices               123217 non-null object\n",
      "dtypes: object(19)\n",
      "memory usage: 32.4+ MB\n"
     ]
    }
   ],
   "source": [
    "#read in the training dataset\n",
    "train=pd.read_csv(\"CheXpert-v1.0-small/train.csv\", dtype = str)\n",
    "train.info()"
   ]
  },
  {
   "cell_type": "markdown",
   "metadata": {},
   "source": [
    "## Data Prep"
   ]
  },
  {
   "cell_type": "code",
   "execution_count": 4,
   "metadata": {},
   "outputs": [
    {
     "data": {
      "text/html": [
       "<div>\n",
       "<style scoped>\n",
       "    .dataframe tbody tr th:only-of-type {\n",
       "        vertical-align: middle;\n",
       "    }\n",
       "\n",
       "    .dataframe tbody tr th {\n",
       "        vertical-align: top;\n",
       "    }\n",
       "\n",
       "    .dataframe thead th {\n",
       "        text-align: right;\n",
       "    }\n",
       "</style>\n",
       "<table border=\"1\" class=\"dataframe\">\n",
       "  <thead>\n",
       "    <tr style=\"text-align: right;\">\n",
       "      <th></th>\n",
       "      <th>Path</th>\n",
       "      <th>Sex</th>\n",
       "      <th>Age</th>\n",
       "      <th>Frontal/Lateral</th>\n",
       "      <th>AP/PA</th>\n",
       "      <th>No Finding</th>\n",
       "      <th>Enlarged Cardiomediastinum</th>\n",
       "      <th>Cardiomegaly</th>\n",
       "      <th>Lung Opacity</th>\n",
       "      <th>Lung Lesion</th>\n",
       "      <th>...</th>\n",
       "      <th>Pleural Other</th>\n",
       "      <th>Fracture</th>\n",
       "      <th>Support Devices</th>\n",
       "      <th>age_bucket</th>\n",
       "      <th>Folder</th>\n",
       "      <th>Data</th>\n",
       "      <th>Patient</th>\n",
       "      <th>Study</th>\n",
       "      <th>viewNumber</th>\n",
       "      <th>ImageType</th>\n",
       "    </tr>\n",
       "  </thead>\n",
       "  <tbody>\n",
       "    <tr>\n",
       "      <th>0</th>\n",
       "      <td>CheXpert-v1.0-small/train/patient00001/study1/...</td>\n",
       "      <td>Female</td>\n",
       "      <td>68</td>\n",
       "      <td>Frontal</td>\n",
       "      <td>AP</td>\n",
       "      <td>POS</td>\n",
       "      <td>NEG</td>\n",
       "      <td>NEG</td>\n",
       "      <td>NEG</td>\n",
       "      <td>NEG</td>\n",
       "      <td>...</td>\n",
       "      <td>NEG</td>\n",
       "      <td>NEG</td>\n",
       "      <td>POS</td>\n",
       "      <td>(64, 78]</td>\n",
       "      <td>CheXpert-v1.0-small</td>\n",
       "      <td>train</td>\n",
       "      <td>patient00001</td>\n",
       "      <td>study1</td>\n",
       "      <td>view1</td>\n",
       "      <td>frontal.jpg</td>\n",
       "    </tr>\n",
       "    <tr>\n",
       "      <th>1</th>\n",
       "      <td>CheXpert-v1.0-small/train/patient00002/study2/...</td>\n",
       "      <td>Female</td>\n",
       "      <td>87</td>\n",
       "      <td>Frontal</td>\n",
       "      <td>AP</td>\n",
       "      <td>NEG</td>\n",
       "      <td>NEG</td>\n",
       "      <td>UKN</td>\n",
       "      <td>POS</td>\n",
       "      <td>NEG</td>\n",
       "      <td>...</td>\n",
       "      <td>NEG</td>\n",
       "      <td>POS</td>\n",
       "      <td>NEG</td>\n",
       "      <td>(78, 98]</td>\n",
       "      <td>CheXpert-v1.0-small</td>\n",
       "      <td>train</td>\n",
       "      <td>patient00002</td>\n",
       "      <td>study2</td>\n",
       "      <td>view1</td>\n",
       "      <td>frontal.jpg</td>\n",
       "    </tr>\n",
       "    <tr>\n",
       "      <th>2</th>\n",
       "      <td>CheXpert-v1.0-small/train/patient00002/study1/...</td>\n",
       "      <td>Female</td>\n",
       "      <td>83</td>\n",
       "      <td>Frontal</td>\n",
       "      <td>AP</td>\n",
       "      <td>NEG</td>\n",
       "      <td>NEG</td>\n",
       "      <td>NEG</td>\n",
       "      <td>POS</td>\n",
       "      <td>NEG</td>\n",
       "      <td>...</td>\n",
       "      <td>NEG</td>\n",
       "      <td>POS</td>\n",
       "      <td>NEG</td>\n",
       "      <td>(78, 98]</td>\n",
       "      <td>CheXpert-v1.0-small</td>\n",
       "      <td>train</td>\n",
       "      <td>patient00002</td>\n",
       "      <td>study1</td>\n",
       "      <td>view1</td>\n",
       "      <td>frontal.jpg</td>\n",
       "    </tr>\n",
       "    <tr>\n",
       "      <th>3</th>\n",
       "      <td>CheXpert-v1.0-small/train/patient00002/study1/...</td>\n",
       "      <td>Female</td>\n",
       "      <td>83</td>\n",
       "      <td>Lateral</td>\n",
       "      <td>NaN</td>\n",
       "      <td>NEG</td>\n",
       "      <td>NEG</td>\n",
       "      <td>NEG</td>\n",
       "      <td>POS</td>\n",
       "      <td>NEG</td>\n",
       "      <td>...</td>\n",
       "      <td>NEG</td>\n",
       "      <td>POS</td>\n",
       "      <td>NEG</td>\n",
       "      <td>(78, 98]</td>\n",
       "      <td>CheXpert-v1.0-small</td>\n",
       "      <td>train</td>\n",
       "      <td>patient00002</td>\n",
       "      <td>study1</td>\n",
       "      <td>view2</td>\n",
       "      <td>lateral.jpg</td>\n",
       "    </tr>\n",
       "    <tr>\n",
       "      <th>4</th>\n",
       "      <td>CheXpert-v1.0-small/train/patient00003/study1/...</td>\n",
       "      <td>Male</td>\n",
       "      <td>41</td>\n",
       "      <td>Frontal</td>\n",
       "      <td>AP</td>\n",
       "      <td>NEG</td>\n",
       "      <td>NEG</td>\n",
       "      <td>NEG</td>\n",
       "      <td>NEG</td>\n",
       "      <td>NEG</td>\n",
       "      <td>...</td>\n",
       "      <td>NEG</td>\n",
       "      <td>NEG</td>\n",
       "      <td>NEG</td>\n",
       "      <td>(33, 48]</td>\n",
       "      <td>CheXpert-v1.0-small</td>\n",
       "      <td>train</td>\n",
       "      <td>patient00003</td>\n",
       "      <td>study1</td>\n",
       "      <td>view1</td>\n",
       "      <td>frontal.jpg</td>\n",
       "    </tr>\n",
       "  </tbody>\n",
       "</table>\n",
       "<p>5 rows × 26 columns</p>\n",
       "</div>"
      ],
      "text/plain": [
       "                                                Path     Sex  Age  \\\n",
       "0  CheXpert-v1.0-small/train/patient00001/study1/...  Female   68   \n",
       "1  CheXpert-v1.0-small/train/patient00002/study2/...  Female   87   \n",
       "2  CheXpert-v1.0-small/train/patient00002/study1/...  Female   83   \n",
       "3  CheXpert-v1.0-small/train/patient00002/study1/...  Female   83   \n",
       "4  CheXpert-v1.0-small/train/patient00003/study1/...    Male   41   \n",
       "\n",
       "  Frontal/Lateral AP/PA No Finding Enlarged Cardiomediastinum Cardiomegaly  \\\n",
       "0         Frontal    AP        POS                        NEG          NEG   \n",
       "1         Frontal    AP        NEG                        NEG          UKN   \n",
       "2         Frontal    AP        NEG                        NEG          NEG   \n",
       "3         Lateral   NaN        NEG                        NEG          NEG   \n",
       "4         Frontal    AP        NEG                        NEG          NEG   \n",
       "\n",
       "  Lung Opacity Lung Lesion  ... Pleural Other Fracture Support Devices  \\\n",
       "0          NEG         NEG  ...           NEG      NEG             POS   \n",
       "1          POS         NEG  ...           NEG      POS             NEG   \n",
       "2          POS         NEG  ...           NEG      POS             NEG   \n",
       "3          POS         NEG  ...           NEG      POS             NEG   \n",
       "4          NEG         NEG  ...           NEG      NEG             NEG   \n",
       "\n",
       "  age_bucket               Folder   Data       Patient   Study viewNumber  \\\n",
       "0   (64, 78]  CheXpert-v1.0-small  train  patient00001  study1      view1   \n",
       "1   (78, 98]  CheXpert-v1.0-small  train  patient00002  study2      view1   \n",
       "2   (78, 98]  CheXpert-v1.0-small  train  patient00002  study1      view1   \n",
       "3   (78, 98]  CheXpert-v1.0-small  train  patient00002  study1      view2   \n",
       "4   (33, 48]  CheXpert-v1.0-small  train  patient00003  study1      view1   \n",
       "\n",
       "     ImageType  \n",
       "0  frontal.jpg  \n",
       "1  frontal.jpg  \n",
       "2  frontal.jpg  \n",
       "3  lateral.jpg  \n",
       "4  frontal.jpg  \n",
       "\n",
       "[5 rows x 26 columns]"
      ]
     },
     "execution_count": 4,
     "metadata": {},
     "output_type": "execute_result"
    }
   ],
   "source": [
    "## clean up the pathologies\n",
    "pathology = ['No Finding','Enlarged Cardiomediastinum', 'Cardiomegaly', 'Lung Opacity',\n",
    "       'Lung Lesion', 'Edema', 'Consolidation', 'Pneumonia', 'Atelectasis',\n",
    "       'Pneumothorax', 'Pleural Effusion', 'Pleural Other', 'Fracture','Support Devices']\n",
    "#mapping to different labels\n",
    "labelMap = {'0.0': 'NEG', '1.0' : 'POS', '-1.0' : 'UKN'}\n",
    "\n",
    "# #remove the unknown class\n",
    "# train = train[train['Pleural Effusion'] != '-1.0']\n",
    "\n",
    "for p in pathology:\n",
    "    train[p].loc[train[p].isna()] = '0.0'\n",
    "    train[p] = train[p].map(labelMap)\n",
    "\n",
    "    \n",
    "##clean up the age to int then create buckets\n",
    "train['Age'] = train['Age'].astype(str).astype(int)\n",
    "age_buckets = [0, 2, 5, 13, 18, 33, 48, 64, 78, 98]\n",
    "train['age_bucket'] = pd.cut(train['Age'], age_buckets)\n",
    "\n",
    "train = train[train['Sex'] != 'Unknown']\n",
    "\n",
    "##parse the path into the respective categories\n",
    "new = train[\"Path\"].str.split(\"/\", n = 5, expand = True)\n",
    "\n",
    "train['Folder'] = new[0]\n",
    "train['Data'] = new[1]\n",
    "train['Patient'] = new[2]\n",
    "train['Study'] = new[3]\n",
    "train['viewNumber']= new[4].str.split(\"_\", n = 2, expand = True)[0]\n",
    "train['ImageType']= new[4].str.split(\"_\", n = 2, expand = True)[1]\n",
    "\n",
    "train.head()"
   ]
  },
  {
   "cell_type": "markdown",
   "metadata": {},
   "source": [
    "## Age Buckets"
   ]
  },
  {
   "cell_type": "code",
   "execution_count": 5,
   "metadata": {},
   "outputs": [
    {
     "data": {
      "text/plain": [
       "[]"
      ]
     },
     "execution_count": 5,
     "metadata": {},
     "output_type": "execute_result"
    },
    {
     "data": {
      "image/png": "[encoded data removed]",
      "text/plain": [
       "<Figure size 432x288 with 1 Axes>"
      ]
     },
     "metadata": {
      "needs_background": "light"
     },
     "output_type": "display_data"
    }
   ],
   "source": [
    "train['Age'].hist().plot()"
   ]
  },
  {
   "cell_type": "code",
   "execution_count": 6,
   "metadata": {},
   "outputs": [
    {
     "data": {
      "text/plain": [
       "<matplotlib.axes._subplots.AxesSubplot at 0x7f0300c38b70>"
      ]
     },
     "execution_count": 6,
     "metadata": {},
     "output_type": "execute_result"
    },
    {
     "data": {
      "image/png": "[encoded data removed]",
      "text/plain": [
       "<Figure size 432x288 with 1 Axes>"
      ]
     },
     "metadata": {
      "needs_background": "light"
     },
     "output_type": "display_data"
    }
   ],
   "source": [
    "age_groups = train.groupby(['age_bucket', 'Pleural Effusion']).size().unstack()\n",
    "age_groups.plot(kind=\"bar\", stacked=True)"
   ]
  },
  {
   "cell_type": "code",
   "execution_count": 7,
   "metadata": {},
   "outputs": [
    {
     "data": {
      "text/plain": [
       "<matplotlib.axes._subplots.AxesSubplot at 0x7f0305a02438>"
      ]
     },
     "execution_count": 7,
     "metadata": {},
     "output_type": "execute_result"
    },
    {
     "data": {
      "image/png": "[encoded data removed]",
      "text/plain": [
       "<Figure size 432x288 with 1 Axes>"
      ]
     },
     "metadata": {
      "needs_background": "light"
     },
     "output_type": "display_data"
    }
   ],
   "source": [
    "gender = train.groupby(['Sex','Pleural Effusion']).size().unstack()\n",
    "gender.plot(kind=\"bar\", stacked=True)"
   ]
  },
  {
   "cell_type": "code",
   "execution_count": 8,
   "metadata": {},
   "outputs": [
    {
     "data": {
      "text/html": [
       "<div>\n",
       "<style scoped>\n",
       "    .dataframe tbody tr th:only-of-type {\n",
       "        vertical-align: middle;\n",
       "    }\n",
       "\n",
       "    .dataframe tbody tr th {\n",
       "        vertical-align: top;\n",
       "    }\n",
       "\n",
       "    .dataframe thead th {\n",
       "        text-align: right;\n",
       "    }\n",
       "</style>\n",
       "<table border=\"1\" class=\"dataframe\">\n",
       "  <thead>\n",
       "    <tr style=\"text-align: right;\">\n",
       "      <th></th>\n",
       "      <th>Pleural Effusion</th>\n",
       "      <th>NEG</th>\n",
       "      <th>POS</th>\n",
       "      <th>UKN</th>\n",
       "    </tr>\n",
       "    <tr>\n",
       "      <th>age_bucket</th>\n",
       "      <th>Sex</th>\n",
       "      <th></th>\n",
       "      <th></th>\n",
       "      <th></th>\n",
       "    </tr>\n",
       "  </thead>\n",
       "  <tbody>\n",
       "    <tr>\n",
       "      <th rowspan=\"2\" valign=\"top\">(13, 18]</th>\n",
       "      <th>Female</th>\n",
       "      <td>194</td>\n",
       "      <td>85</td>\n",
       "      <td>11</td>\n",
       "    </tr>\n",
       "    <tr>\n",
       "      <th>Male</th>\n",
       "      <td>343</td>\n",
       "      <td>119</td>\n",
       "      <td>14</td>\n",
       "    </tr>\n",
       "    <tr>\n",
       "      <th rowspan=\"2\" valign=\"top\">(18, 33]</th>\n",
       "      <th>Female</th>\n",
       "      <td>5760</td>\n",
       "      <td>2193</td>\n",
       "      <td>338</td>\n",
       "    </tr>\n",
       "    <tr>\n",
       "      <th>Male</th>\n",
       "      <td>8433</td>\n",
       "      <td>3208</td>\n",
       "      <td>500</td>\n",
       "    </tr>\n",
       "    <tr>\n",
       "      <th rowspan=\"2\" valign=\"top\">(33, 48]</th>\n",
       "      <th>Female</th>\n",
       "      <td>8504</td>\n",
       "      <td>4207</td>\n",
       "      <td>580</td>\n",
       "    </tr>\n",
       "    <tr>\n",
       "      <th>Male</th>\n",
       "      <td>12279</td>\n",
       "      <td>6207</td>\n",
       "      <td>896</td>\n",
       "    </tr>\n",
       "    <tr>\n",
       "      <th rowspan=\"2\" valign=\"top\">(48, 64]</th>\n",
       "      <th>Female</th>\n",
       "      <td>15119</td>\n",
       "      <td>10586</td>\n",
       "      <td>1337</td>\n",
       "    </tr>\n",
       "    <tr>\n",
       "      <th>Male</th>\n",
       "      <td>25063</td>\n",
       "      <td>17047</td>\n",
       "      <td>2188</td>\n",
       "    </tr>\n",
       "    <tr>\n",
       "      <th rowspan=\"2\" valign=\"top\">(64, 78]</th>\n",
       "      <th>Female</th>\n",
       "      <td>11913</td>\n",
       "      <td>10079</td>\n",
       "      <td>1340</td>\n",
       "    </tr>\n",
       "    <tr>\n",
       "      <th>Male</th>\n",
       "      <td>18557</td>\n",
       "      <td>15146</td>\n",
       "      <td>1859</td>\n",
       "    </tr>\n",
       "    <tr>\n",
       "      <th rowspan=\"2\" valign=\"top\">(78, 98]</th>\n",
       "      <th>Female</th>\n",
       "      <td>9234</td>\n",
       "      <td>8065</td>\n",
       "      <td>1229</td>\n",
       "    </tr>\n",
       "    <tr>\n",
       "      <th>Male</th>\n",
       "      <td>10196</td>\n",
       "      <td>9245</td>\n",
       "      <td>1336</td>\n",
       "    </tr>\n",
       "  </tbody>\n",
       "</table>\n",
       "</div>"
      ],
      "text/plain": [
       "Pleural Effusion     NEG    POS   UKN\n",
       "age_bucket Sex                       \n",
       "(13, 18]   Female    194     85    11\n",
       "           Male      343    119    14\n",
       "(18, 33]   Female   5760   2193   338\n",
       "           Male     8433   3208   500\n",
       "(33, 48]   Female   8504   4207   580\n",
       "           Male    12279   6207   896\n",
       "(48, 64]   Female  15119  10586  1337\n",
       "           Male    25063  17047  2188\n",
       "(64, 78]   Female  11913  10079  1340\n",
       "           Male    18557  15146  1859\n",
       "(78, 98]   Female   9234   8065  1229\n",
       "           Male    10196   9245  1336"
      ]
     },
     "execution_count": 8,
     "metadata": {},
     "output_type": "execute_result"
    }
   ],
   "source": [
    "age_sex_groups = train.groupby(['age_bucket', 'Sex', 'Pleural Effusion']).size().unstack()\n",
    "age_sex_groups"
   ]
  },
  {
   "cell_type": "code",
   "execution_count": 9,
   "metadata": {},
   "outputs": [
    {
     "data": {
      "text/plain": [
       "<matplotlib.axes._subplots.AxesSubplot at 0x7f0306cf8470>"
      ]
     },
     "execution_count": 9,
     "metadata": {},
     "output_type": "execute_result"
    },
    {
     "data": {
      "image/png": "[encoded data removed]",
      "text/plain": [
       "<Figure size 432x288 with 1 Axes>"
      ]
     },
     "metadata": {
      "needs_background": "light"
     },
     "output_type": "display_data"
    }
   ],
   "source": [
    "image_type = train.groupby(['ImageType', 'Pleural Effusion']).size().unstack()\n",
    "image_type.plot(kind=\"bar\", stacked=True)"
   ]
  },
  {
   "cell_type": "code",
   "execution_count": 10,
   "metadata": {},
   "outputs": [
    {
     "data": {
      "text/plain": [
       "Patient\n",
       "patient00001    1\n",
       "patient00002    2\n",
       "patient00003    1\n",
       "patient00004    1\n",
       "patient00005    2\n",
       "Name: Study, dtype: int64"
      ]
     },
     "execution_count": 10,
     "metadata": {},
     "output_type": "execute_result"
    }
   ],
   "source": [
    "patients = train.groupby(['Patient'])['Study'].nunique()\n",
    "patients.head()"
   ]
  },
  {
   "cell_type": "code",
   "execution_count": 16,
   "metadata": {},
   "outputs": [
    {
     "data": {
      "text/plain": [
       "64539"
      ]
     },
     "execution_count": 16,
     "metadata": {},
     "output_type": "execute_result"
    }
   ],
   "source": [
    "patients.count()"
   ]
  },
  {
   "cell_type": "code",
   "execution_count": 11,
   "metadata": {},
   "outputs": [
    {
     "data": {
      "text/plain": [
       "<bound method Axes.plot of <matplotlib.axes._subplots.AxesSubplot object at 0x7f0301737b70>>"
      ]
     },
     "execution_count": 11,
     "metadata": {},
     "output_type": "execute_result"
    },
    {
     "data": {
      "image/png": "[encoded data removed]",
      "text/plain": [
       "<Figure size 432x288 with 1 Axes>"
      ]
     },
     "metadata": {
      "needs_background": "light"
     },
     "output_type": "display_data"
    }
   ],
   "source": [
    "patients.hist().plot"
   ]
  },
  {
   "cell_type": "code",
   "execution_count": 14,
   "metadata": {},
   "outputs": [
    {
     "data": {
      "text/plain": [
       "1     33563\n",
       "2     11172\n",
       "3      5921\n",
       "4      3661\n",
       "5      2482\n",
       "6      1665\n",
       "7      1181\n",
       "8       896\n",
       "9       696\n",
       "10      529\n",
       "11      448\n",
       "12      345\n",
       "13      280\n",
       "14      236\n",
       "15      186\n",
       "16      178\n",
       "17      146\n",
       "18      121\n",
       "19       96\n",
       "20       93\n",
       "21       67\n",
       "23       63\n",
       "22       49\n",
       "25       44\n",
       "26       41\n",
       "27       37\n",
       "24       36\n",
       "28       30\n",
       "32       27\n",
       "30       25\n",
       "      ...  \n",
       "37        4\n",
       "47        4\n",
       "41        4\n",
       "59        3\n",
       "57        3\n",
       "64        3\n",
       "77        3\n",
       "52        3\n",
       "76        3\n",
       "44        2\n",
       "53        2\n",
       "50        2\n",
       "51        2\n",
       "65        2\n",
       "62        2\n",
       "60        2\n",
       "56        2\n",
       "54        2\n",
       "68        1\n",
       "73        1\n",
       "91        1\n",
       "67        1\n",
       "75        1\n",
       "89        1\n",
       "70        1\n",
       "42        1\n",
       "86        1\n",
       "61        1\n",
       "71        1\n",
       "55        1\n",
       "Name: Study, Length: 74, dtype: int64"
      ]
     },
     "execution_count": 14,
     "metadata": {},
     "output_type": "execute_result"
    }
   ],
   "source": [
    "patients.value_counts()"
   ]
  },
  {
   "cell_type": "code",
   "execution_count": 46,
   "metadata": {},
   "outputs": [
    {
     "name": "stdout",
     "output_type": "stream",
     "text": [
      "NEG    201033\n",
      "POS     22380\n",
      "Name: No Finding, dtype: int64\n",
      "NEG    200212\n",
      "UKN     12403\n",
      "POS     10798\n",
      "Name: Enlarged Cardiomediastinum, dtype: int64\n",
      "NEG    188326\n",
      "POS     27000\n",
      "UKN      8087\n",
      "Name: Cardiomegaly, dtype: int64\n",
      "NEG    112234\n",
      "POS    105581\n",
      "UKN      5598\n",
      "Name: Lung Opacity, dtype: int64\n",
      "NEG    212739\n",
      "POS      9186\n",
      "UKN      1488\n",
      "Name: Lung Lesion, dtype: int64\n",
      "NEG    158183\n",
      "POS     52246\n",
      "UKN     12984\n",
      "Name: Edema, dtype: int64\n",
      "NEG    180888\n",
      "UKN     27742\n",
      "POS     14783\n",
      "Name: Consolidation, dtype: int64\n",
      "NEG    198604\n",
      "UKN     18770\n",
      "POS      6039\n",
      "Name: Pneumonia, dtype: int64\n",
      "NEG    156298\n",
      "UKN     33739\n",
      "POS     33376\n",
      "Name: Atelectasis, dtype: int64\n",
      "NEG    200820\n",
      "POS     19448\n",
      "UKN      3145\n",
      "Name: Pneumothorax, dtype: int64\n",
      "NEG    125598\n",
      "POS     86187\n",
      "UKN     11628\n",
      "Name: Pleural Effusion, dtype: int64\n",
      "NEG    217237\n",
      "POS      3523\n",
      "UKN      2653\n",
      "Name: Pleural Other, dtype: int64\n",
      "NEG    213731\n",
      "POS      9040\n",
      "UKN       642\n",
      "Name: Fracture, dtype: int64\n",
      "POS    116001\n",
      "NEG    106333\n",
      "UKN      1079\n",
      "Name: Support Devices, dtype: int64\n"
     ]
    }
   ],
   "source": [
    "pathology = ['No Finding','Enlarged Cardiomediastinum', 'Cardiomegaly', 'Lung Opacity',\n",
    "       'Lung Lesion', 'Edema', 'Consolidation', 'Pneumonia', 'Atelectasis',\n",
    "       'Pneumothorax', 'Pleural Effusion', 'Pleural Other', 'Fracture','Support Devices']\n",
    "\n",
    "for p in pathology:\n",
    "    print(train[p].value_counts())"
   ]
  },
  {
   "cell_type": "markdown",
   "metadata": {},
   "source": [
    "## Ground Truth Data"
   ]
  },
  {
   "cell_type": "code",
   "execution_count": 3,
   "metadata": {},
   "outputs": [
    {
     "name": "stdout",
     "output_type": "stream",
     "text": [
      "0    167\n",
      "1     67\n",
      "Name: label, dtype: int64\n"
     ]
    }
   ],
   "source": [
    "VALID = 'CheXpert-v1.0-small/valid.csv'\n",
    "\n",
    "# generate validation set\n",
    "valid = pd.read_csv(VALID, dtype=str)\n",
    "\n",
    "##clean up the age to int then create buckets\n",
    "valid['Age'] = valid['Age'].astype(str).astype(int)\n",
    "age_buckets = [0, 2, 5, 13, 18, 33, 48, 64, 78, 98]\n",
    "valid['age_bucket'] = pd.cut(valid['Age'], age_buckets)\n",
    "\n",
    "##parse the path into the respective categories\n",
    "new = valid[\"Path\"].str.split(\"/\", n = 5, expand = True)\n",
    "\n",
    "valid['Folder'] = new[0]\n",
    "valid['Data'] = new[1]\n",
    "valid['Patient'] = new[2]\n",
    "valid['Study'] = new[3]\n",
    "valid['viewNumber']= new[4].str.split(\"_\", n = 2, expand = True)[0]\n",
    "valid['ImageType']= new[4].str.split(\"_\", n = 2, expand = True)[1]\n",
    "\n",
    "#mapping to different labels\n",
    "label = {'0.0': 0, '1.0' : 1, '-1.0' : 1}\n",
    "\n",
    "#same for validation set even though there should be no issue here with missing data\n",
    "valid['label'] = valid['Pleural Effusion'].map(label)\n",
    "num_valid = len(valid)\n",
    "\n",
    "print(valid['label'].value_counts())"
   ]
  },
  {
   "cell_type": "code",
   "execution_count": 4,
   "metadata": {},
   "outputs": [],
   "source": [
    "groupLabel = ['Patient','Study','Sex','Age']\n",
    "test = valid[['Patient','Study','Sex','Age','label']].groupby(groupLabel).max().reset_index()"
   ]
  },
  {
   "cell_type": "code",
   "execution_count": 6,
   "metadata": {},
   "outputs": [
    {
     "data": {
      "text/plain": [
       "0    136\n",
       "1     64\n",
       "Name: label, dtype: int64"
      ]
     },
     "execution_count": 6,
     "metadata": {},
     "output_type": "execute_result"
    }
   ],
   "source": [
    "test['label'].value_counts()"
   ]
  },
  {
   "cell_type": "code",
   "execution_count": 10,
   "metadata": {},
   "outputs": [
    {
     "data": {
      "text/plain": [
       "<matplotlib.axes._subplots.AxesSubplot at 0x7f53ebd37240>"
      ]
     },
     "execution_count": 10,
     "metadata": {},
     "output_type": "execute_result"
    },
    {
     "data": {
      "image/png": "[encoded data removed]",
      "text/plain": [
       "<Figure size 432x288 with 1 Axes>"
      ]
     },
     "metadata": {
      "needs_background": "light"
     },
     "output_type": "display_data"
    }
   ],
   "source": [
    "#mapping to different labels\n",
    "label = {0: 'NEG', 1 : 'POS'}\n",
    "\n",
    "#same for validation set even though there should be no issue here with missing data\n",
    "test['Effusion'] = test['label'].map(label)\n",
    "gender = test.groupby(['Sex','Effusion']).size().unstack()\n",
    "gender.plot(kind=\"bar\", stacked=True)"
   ]
  },
  {
   "cell_type": "code",
   "execution_count": null,
   "metadata": {},
   "outputs": [],
   "source": []
  }
 ],
 "metadata": {
  "kernelspec": {
   "display_name": "Python 3",
   "language": "python",
   "name": "python3"
  },
  "language_info": {
   "codemirror_mode": {
    "name": "ipython",
    "version": 3
   },
   "file_extension": ".py",
   "mimetype": "text/x-python",
   "name": "python",
   "nbconvert_exporter": "python",
   "pygments_lexer": "ipython3",
   "version": "3.6.6"
  }
 },
 "nbformat": 4,
 "nbformat_minor": 2
}
