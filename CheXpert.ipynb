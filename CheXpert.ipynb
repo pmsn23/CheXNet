{
 "cells": [
  {
   "cell_type": "code",
   "execution_count": 2,
   "metadata": {},
   "outputs": [],
   "source": [
    "import pandas as pd\n",
    "#df=pd.read_csv(\"https://raw.githubusercontent.com/pmsn23/CheXNet/master/train.csv\")\n",
    "df=pd.read_csv(\"train.csv\")"
   ]
  },
  {
   "cell_type": "markdown",
   "metadata": {},
   "source": [
    "### chest xray (CXR) Terminology and dataset chracteristics\n",
    "- path - Location of the xray jpg file\n",
    "- sex - male/female and the ratio is 60:40 - There is one entry with unknown\n",
    "- age - Ranging from 18 thru 90, 3 entries with zero.\n",
    "- frontal_lateral - xray of front view (frontal) (or) side view (lateral)\n",
    "\n",
    "\n",
    "- PA (posterioranterior) - xray taken when the patient in standing position (upright), the xray tube is 72inch from the patient\n",
    "- AP (anteriorposterior) - xray taken while the patient in lying down and facing up potision (supine position), the xray tube is 40inch from the patient\n",
    "- LL - Left Lateral\n",
    "- RL - Right Lateral\n",
    "\n",
    "\n",
    "- Number of CXR with AP, PA, LL and RL\n",
    "    - AP : 161590\n",
    "    - PA :  29420\n",
    "    - LL :     16\n",
    "    - RL :      1\n",
    "\n",
    "\n",
    "- The AP shows magnification of the heart and widening of the mediastinum. Whenever possible the patient should be imaged in an upright PA position.  AP views are less useful and should be reserved for very ill patients who cannot stand erect.\n",
    "    \n",
    "    - xray count\n",
    "        - Frontal    191027\n",
    "        - Lateral     32387\n",
    "        \n",
    "        \n",
    "- pleural_effusion status\n",
    "    - Positive: 86,187 (1)\n",
    "    - Negative: 11,628 (-1)\n",
    "    - Uncertain:  35,396 (0)"
   ]
  },
  {
   "cell_type": "code",
   "execution_count": 10,
   "metadata": {},
   "outputs": [
    {
     "name": "stdout",
     "output_type": "stream",
     "text": [
      "<class 'pandas.core.frame.DataFrame'>\n",
      "RangeIndex: 223414 entries, 0 to 223413\n",
      "Data columns (total 19 columns):\n",
      "path                          223414 non-null object\n",
      "sex                           223414 non-null object\n",
      "age                           223414 non-null int64\n",
      "frontal_lateral               223414 non-null object\n",
      "ap_pa                         191027 non-null object\n",
      "no_finding                    22381 non-null float64\n",
      "enlarged_cardiomediastinum    44839 non-null float64\n",
      "cardiomegaly                  46203 non-null float64\n",
      "lung_opacity                  117778 non-null float64\n",
      "lung_lesion                   11944 non-null float64\n",
      "edema                         85956 non-null float64\n",
      "consolidation                 70622 non-null float64\n",
      "pneumonia                     27608 non-null float64\n",
      "atelectasis                   68443 non-null float64\n",
      "pneumothorax                  78934 non-null float64\n",
      "pleural_effusion              133211 non-null float64\n",
      "pleural_other                 6492 non-null float64\n",
      "fracture                      12194 non-null float64\n",
      "support_devices               123217 non-null float64\n",
      "dtypes: float64(14), int64(1), object(4)\n",
      "memory usage: 32.4+ MB\n"
     ]
    }
   ],
   "source": [
    "df.info()"
   ]
  },
  {
   "cell_type": "code",
   "execution_count": 9,
   "metadata": {},
   "outputs": [],
   "source": [
    "df.columns = df.columns.str.strip().str.lower().str.replace('/', '_').str.replace(' ','_')"
   ]
  },
  {
   "cell_type": "code",
   "execution_count": 21,
   "metadata": {},
   "outputs": [
    {
     "data": {
      "text/plain": [
       "Male       132636\n",
       "Female      90777\n",
       "Unknown         1\n",
       "Name: sex, dtype: int64"
      ]
     },
     "execution_count": 21,
     "metadata": {},
     "output_type": "execute_result"
    }
   ],
   "source": [
    "df[\"sex\"].value_counts()"
   ]
  },
  {
   "cell_type": "code",
   "execution_count": 13,
   "metadata": {},
   "outputs": [
    {
     "data": {
      "text/plain": [
       " 1.0    86187\n",
       " 0.0    35396\n",
       "-1.0    11628\n",
       "Name: pleural_effusion, dtype: int64"
      ]
     },
     "execution_count": 13,
     "metadata": {},
     "output_type": "execute_result"
    }
   ],
   "source": [
    "df[\"pleural_effusion\"].value_counts()"
   ]
  },
  {
   "cell_type": "code",
   "execution_count": 14,
   "metadata": {},
   "outputs": [
    {
     "data": {
      "text/plain": [
       "Frontal    191027\n",
       "Lateral     32387\n",
       "Name: frontal_lateral, dtype: int64"
      ]
     },
     "execution_count": 14,
     "metadata": {},
     "output_type": "execute_result"
    }
   ],
   "source": [
    "df[\"frontal_lateral\"].value_counts()"
   ]
  },
  {
   "cell_type": "code",
   "execution_count": 15,
   "metadata": {},
   "outputs": [
    {
     "data": {
      "text/plain": [
       "AP    161590\n",
       "PA     29420\n",
       "LL        16\n",
       "RL         1\n",
       "Name: ap_pa, dtype: int64"
      ]
     },
     "execution_count": 15,
     "metadata": {},
     "output_type": "execute_result"
    }
   ],
   "source": [
    "df[\"ap_pa\"].value_counts()"
   ]
  },
  {
   "cell_type": "code",
   "execution_count": 16,
   "metadata": {},
   "outputs": [
    {
     "data": {
      "text/plain": [
       "1.0    22381\n",
       "Name: no_finding, dtype: int64"
      ]
     },
     "execution_count": 16,
     "metadata": {},
     "output_type": "execute_result"
    }
   ],
   "source": [
    "df[\"no_finding\"].value_counts()"
   ]
  },
  {
   "cell_type": "code",
   "execution_count": 17,
   "metadata": {},
   "outputs": [
    {
     "data": {
      "text/html": [
       "<div>\n",
       "<style scoped>\n",
       "    .dataframe tbody tr th:only-of-type {\n",
       "        vertical-align: middle;\n",
       "    }\n",
       "\n",
       "    .dataframe tbody tr th {\n",
       "        vertical-align: top;\n",
       "    }\n",
       "\n",
       "    .dataframe thead th {\n",
       "        text-align: right;\n",
       "    }\n",
       "</style>\n",
       "<table border=\"1\" class=\"dataframe\">\n",
       "  <thead>\n",
       "    <tr style=\"text-align: right;\">\n",
       "      <th></th>\n",
       "      <th>count</th>\n",
       "      <th>unique</th>\n",
       "      <th>top</th>\n",
       "      <th>freq</th>\n",
       "    </tr>\n",
       "  </thead>\n",
       "  <tbody>\n",
       "    <tr>\n",
       "      <th>path</th>\n",
       "      <td>223414</td>\n",
       "      <td>223414</td>\n",
       "      <td>CheXpert-v1.0-small/train/patient41098/study1/...</td>\n",
       "      <td>1</td>\n",
       "    </tr>\n",
       "    <tr>\n",
       "      <th>sex</th>\n",
       "      <td>223414</td>\n",
       "      <td>3</td>\n",
       "      <td>Male</td>\n",
       "      <td>132636</td>\n",
       "    </tr>\n",
       "    <tr>\n",
       "      <th>frontal_lateral</th>\n",
       "      <td>223414</td>\n",
       "      <td>2</td>\n",
       "      <td>Frontal</td>\n",
       "      <td>191027</td>\n",
       "    </tr>\n",
       "    <tr>\n",
       "      <th>ap_pa</th>\n",
       "      <td>191027</td>\n",
       "      <td>4</td>\n",
       "      <td>AP</td>\n",
       "      <td>161590</td>\n",
       "    </tr>\n",
       "  </tbody>\n",
       "</table>\n",
       "</div>"
      ],
      "text/plain": [
       "                  count  unique  \\\n",
       "path             223414  223414   \n",
       "sex              223414       3   \n",
       "frontal_lateral  223414       2   \n",
       "ap_pa            191027       4   \n",
       "\n",
       "                                                               top    freq  \n",
       "path             CheXpert-v1.0-small/train/patient41098/study1/...       1  \n",
       "sex                                                           Male  132636  \n",
       "frontal_lateral                                            Frontal  191027  \n",
       "ap_pa                                                           AP  161590  "
      ]
     },
     "execution_count": 17,
     "metadata": {},
     "output_type": "execute_result"
    }
   ],
   "source": [
    "df_nominal = df.loc[:, (df.dtypes == object)]\n",
    "df[df_nominal.columns].describe().transpose()"
   ]
  },
  {
   "cell_type": "code",
   "execution_count": null,
   "metadata": {},
   "outputs": [],
   "source": []
  }
 ],
 "metadata": {
  "kernelspec": {
   "display_name": "Python 3",
   "language": "python",
   "name": "python3"
  },
  "language_info": {
   "codemirror_mode": {
    "name": "ipython",
    "version": 3
   },
   "file_extension": ".py",
   "mimetype": "text/x-python",
   "name": "python",
   "nbconvert_exporter": "python",
   "pygments_lexer": "ipython3",
   "version": "3.7.1"
  }
 },
 "nbformat": 4,
 "nbformat_minor": 2
}
